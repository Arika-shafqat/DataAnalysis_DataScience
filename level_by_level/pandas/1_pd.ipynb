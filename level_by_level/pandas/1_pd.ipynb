{
 "cells": [
  {
   "cell_type": "markdown",
   "id": "55422b19",
   "metadata": {},
   "source": [
    "# pandas "
   ]
  },
  {
   "cell_type": "markdown",
   "id": "907d11d7",
   "metadata": {},
   "source": [
    "data maniapulation and data analysis"
   ]
  },
  {
   "cell_type": "markdown",
   "id": "403fb2a4",
   "metadata": {},
   "source": [
    "**descriptive** = what happened\n",
    "\n",
    "**digonostic**  = why happened\n",
    "\n",
    "**predictive** = what is like to be happen\n",
    "\n",
    "**prescriptive** = learn and predict(AI)"
   ]
  },
  {
   "cell_type": "code",
   "execution_count": 9,
   "id": "c6ced46a",
   "metadata": {},
   "outputs": [],
   "source": [
    "import numpy as np"
   ]
  },
  {
   "cell_type": "code",
   "execution_count": 10,
   "id": "c31c493e",
   "metadata": {},
   "outputs": [],
   "source": [
    "import pandas as pd"
   ]
  },
  {
   "cell_type": "code",
   "execution_count": 11,
   "id": "367bcab1",
   "metadata": {},
   "outputs": [
    {
     "data": {
      "application/vnd.microsoft.datawrangler.viewer.v0+json": {
       "columns": [
        {
         "name": "index",
         "rawType": "int64",
         "type": "integer"
        },
        {
         "name": "0",
         "rawType": "int64",
         "type": "integer"
        }
       ],
       "ref": "3c6e6f2a-b4ea-462c-bd41-dd9fa46b3bae",
       "rows": [
        [
         "0",
         "1"
        ],
        [
         "1",
         "3"
        ],
        [
         "2",
         "5"
        ],
        [
         "3",
         "7"
        ],
        [
         "4",
         "9"
        ],
        [
         "5",
         "8"
        ]
       ],
       "shape": {
        "columns": 1,
        "rows": 6
       }
      },
      "text/plain": [
       "0    1\n",
       "1    3\n",
       "2    5\n",
       "3    7\n",
       "4    9\n",
       "5    8\n",
       "dtype: int64"
      ]
     },
     "execution_count": 11,
     "metadata": {},
     "output_type": "execute_result"
    }
   ],
   "source": [
    "# object creation\n",
    "s = pd.Series([1,3,5,7,9,8])\n",
    "s"
   ]
  },
  {
   "cell_type": "code",
   "execution_count": 12,
   "id": "1282b6bb",
   "metadata": {},
   "outputs": [
    {
     "ename": "SyntaxError",
     "evalue": "invalid syntax (2074126500.py, line 1)",
     "output_type": "error",
     "traceback": [
      "\u001b[1;36m  Cell \u001b[1;32mIn[12], line 1\u001b[1;36m\u001b[0m\n\u001b[1;33m    s2 = pd.Series([1,3,5,7, ,9]) # 2nd LAST IS EMPTY\u001b[0m\n\u001b[1;37m                             ^\u001b[0m\n\u001b[1;31mSyntaxError\u001b[0m\u001b[1;31m:\u001b[0m invalid syntax\n"
     ]
    }
   ],
   "source": [
    "s2 = pd.Series([1,3,5,7, ,9]) # 2nd LAST IS EMPTY\n",
    "s2"
   ]
  },
  {
   "cell_type": "code",
   "execution_count": null,
   "id": "a0dc8651",
   "metadata": {},
   "outputs": [
    {
     "data": {
      "application/vnd.microsoft.datawrangler.viewer.v0+json": {
       "columns": [
        {
         "name": "index",
         "rawType": "int64",
         "type": "integer"
        },
        {
         "name": "0",
         "rawType": "float64",
         "type": "float"
        }
       ],
       "ref": "a712ca8c-7753-4ab8-877a-07ff244bb70c",
       "rows": [
        [
         "0",
         "1.0"
        ],
        [
         "1",
         "2.0"
        ],
        [
         "2",
         "3.0"
        ],
        [
         "3",
         "4.0"
        ],
        [
         "4",
         null
        ],
        [
         "5",
         "6.0"
        ],
        [
         "6",
         "5.0"
        ]
       ],
       "shape": {
        "columns": 1,
        "rows": 7
       }
      },
      "text/plain": [
       "0    1.0\n",
       "1    2.0\n",
       "2    3.0\n",
       "3    4.0\n",
       "4    NaN\n",
       "5    6.0\n",
       "6    5.0\n",
       "dtype: float64"
      ]
     },
     "execution_count": 16,
     "metadata": {},
     "output_type": "execute_result"
    }
   ],
   "source": [
    "s3 = pd.Series([1,2,3,4,np.nan,6,5])\n",
    "s3"
   ]
  },
  {
   "cell_type": "code",
   "execution_count": null,
   "id": "4926bffb",
   "metadata": {},
   "outputs": [],
   "source": [
    "dates = pd.date_range(\"20250801\", periods=7)"
   ]
  },
  {
   "cell_type": "code",
   "execution_count": null,
   "id": "dd3c8b55",
   "metadata": {},
   "outputs": [
    {
     "data": {
      "text/plain": [
       "DatetimeIndex(['2025-08-01', '2025-08-02', '2025-08-03', '2025-08-04',\n",
       "               '2025-08-05', '2025-08-06', '2025-08-07'],\n",
       "              dtype='datetime64[ns]', freq='D')"
      ]
     },
     "execution_count": 8,
     "metadata": {},
     "output_type": "execute_result"
    }
   ],
   "source": [
    "dates"
   ]
  },
  {
   "cell_type": "code",
   "execution_count": 13,
   "id": "717f8f28",
   "metadata": {},
   "outputs": [],
   "source": [
    "# convert above data in to data frame  \n",
    "df = pd.DataFrame(np.random.rand(7,4), index=dates ,columns=list(\"ABCD\"))"
   ]
  },
  {
   "cell_type": "code",
   "execution_count": null,
   "id": "bafc9a54",
   "metadata": {},
   "outputs": [
    {
     "data": {
      "application/vnd.microsoft.datawrangler.viewer.v0+json": {
       "columns": [
        {
         "name": "index",
         "rawType": "datetime64[ns]",
         "type": "datetime"
        },
        {
         "name": "A",
         "rawType": "float64",
         "type": "float"
        },
        {
         "name": "B",
         "rawType": "float64",
         "type": "float"
        },
        {
         "name": "C",
         "rawType": "float64",
         "type": "float"
        },
        {
         "name": "D",
         "rawType": "float64",
         "type": "float"
        }
       ],
       "ref": "12b832d0-299c-4e71-9b7f-c0a05d61dbab",
       "rows": [
        [
         "2025-08-01 00:00:00",
         "0.46199980274410146",
         "0.4737424970628906",
         "0.9138970885948066",
         "0.9376920090436418"
        ],
        [
         "2025-08-02 00:00:00",
         "0.5472519625818065",
         "0.7710148017892137",
         "0.13123827590756243",
         "0.5995237883005158"
        ],
        [
         "2025-08-03 00:00:00",
         "0.7886178761968037",
         "0.047441782826066925",
         "0.2303555454863766",
         "0.7595735201436863"
        ],
        [
         "2025-08-04 00:00:00",
         "0.3277997507506155",
         "0.7187184850382458",
         "0.3534686178319203",
         "0.22918372538494658"
        ],
        [
         "2025-08-05 00:00:00",
         "0.4054394940597249",
         "0.9670670414791598",
         "0.7639959970391623",
         "0.4073215154697929"
        ],
        [
         "2025-08-06 00:00:00",
         "0.9259313507265632",
         "0.46506815084908404",
         "0.6665261034715857",
         "0.4413296661504196"
        ],
        [
         "2025-08-07 00:00:00",
         "0.03350854975050177",
         "0.27590338713168827",
         "0.5357236997014588",
         "0.3998463524639845"
        ]
       ],
       "shape": {
        "columns": 4,
        "rows": 7
       }
      },
      "text/html": [
       "<div>\n",
       "<style scoped>\n",
       "    .dataframe tbody tr th:only-of-type {\n",
       "        vertical-align: middle;\n",
       "    }\n",
       "\n",
       "    .dataframe tbody tr th {\n",
       "        vertical-align: top;\n",
       "    }\n",
       "\n",
       "    .dataframe thead th {\n",
       "        text-align: right;\n",
       "    }\n",
       "</style>\n",
       "<table border=\"1\" class=\"dataframe\">\n",
       "  <thead>\n",
       "    <tr style=\"text-align: right;\">\n",
       "      <th></th>\n",
       "      <th>A</th>\n",
       "      <th>B</th>\n",
       "      <th>C</th>\n",
       "      <th>D</th>\n",
       "    </tr>\n",
       "  </thead>\n",
       "  <tbody>\n",
       "    <tr>\n",
       "      <th>2025-08-01</th>\n",
       "      <td>0.462000</td>\n",
       "      <td>0.473742</td>\n",
       "      <td>0.913897</td>\n",
       "      <td>0.937692</td>\n",
       "    </tr>\n",
       "    <tr>\n",
       "      <th>2025-08-02</th>\n",
       "      <td>0.547252</td>\n",
       "      <td>0.771015</td>\n",
       "      <td>0.131238</td>\n",
       "      <td>0.599524</td>\n",
       "    </tr>\n",
       "    <tr>\n",
       "      <th>2025-08-03</th>\n",
       "      <td>0.788618</td>\n",
       "      <td>0.047442</td>\n",
       "      <td>0.230356</td>\n",
       "      <td>0.759574</td>\n",
       "    </tr>\n",
       "    <tr>\n",
       "      <th>2025-08-04</th>\n",
       "      <td>0.327800</td>\n",
       "      <td>0.718718</td>\n",
       "      <td>0.353469</td>\n",
       "      <td>0.229184</td>\n",
       "    </tr>\n",
       "    <tr>\n",
       "      <th>2025-08-05</th>\n",
       "      <td>0.405439</td>\n",
       "      <td>0.967067</td>\n",
       "      <td>0.763996</td>\n",
       "      <td>0.407322</td>\n",
       "    </tr>\n",
       "    <tr>\n",
       "      <th>2025-08-06</th>\n",
       "      <td>0.925931</td>\n",
       "      <td>0.465068</td>\n",
       "      <td>0.666526</td>\n",
       "      <td>0.441330</td>\n",
       "    </tr>\n",
       "    <tr>\n",
       "      <th>2025-08-07</th>\n",
       "      <td>0.033509</td>\n",
       "      <td>0.275903</td>\n",
       "      <td>0.535724</td>\n",
       "      <td>0.399846</td>\n",
       "    </tr>\n",
       "  </tbody>\n",
       "</table>\n",
       "</div>"
      ],
      "text/plain": [
       "                   A         B         C         D\n",
       "2025-08-01  0.462000  0.473742  0.913897  0.937692\n",
       "2025-08-02  0.547252  0.771015  0.131238  0.599524\n",
       "2025-08-03  0.788618  0.047442  0.230356  0.759574\n",
       "2025-08-04  0.327800  0.718718  0.353469  0.229184\n",
       "2025-08-05  0.405439  0.967067  0.763996  0.407322\n",
       "2025-08-06  0.925931  0.465068  0.666526  0.441330\n",
       "2025-08-07  0.033509  0.275903  0.535724  0.399846"
      ]
     },
     "execution_count": 26,
     "metadata": {},
     "output_type": "execute_result"
    }
   ],
   "source": [
    "df"
   ]
  },
  {
   "cell_type": "code",
   "execution_count": null,
   "id": "e0192c83",
   "metadata": {},
   "outputs": [],
   "source": [
    "# through dictionary make datafarme\n",
    "df2 = pd.DataFrame(\n",
    "    {\n",
    "        \"A\": 1.0,\n",
    "        \"B\": pd.Timestamp(\"20250301\"),\n",
    "        \"C\": pd.Series(1, index=list(range(4)), dtype=\"float32\"),\n",
    "        \"D\": np.array([3]*4 , dtype=\"int32\"),\n",
    "        \"E\": pd.Categorical([\"test\",\"train\",\"test\",\"train\"]),\n",
    "        \"F\": \"foo\",\n",
    "    }\n",
    ")"
   ]
  },
  {
   "cell_type": "code",
   "execution_count": null,
   "id": "8168f3a0",
   "metadata": {},
   "outputs": [
    {
     "data": {
      "application/vnd.microsoft.datawrangler.viewer.v0+json": {
       "columns": [
        {
         "name": "index",
         "rawType": "int64",
         "type": "integer"
        },
        {
         "name": "A",
         "rawType": "float64",
         "type": "float"
        },
        {
         "name": "B",
         "rawType": "datetime64[s]",
         "type": "unknown"
        },
        {
         "name": "C",
         "rawType": "float32",
         "type": "float"
        },
        {
         "name": "D",
         "rawType": "int32",
         "type": "integer"
        },
        {
         "name": "E",
         "rawType": "category",
         "type": "unknown"
        },
        {
         "name": "F",
         "rawType": "object",
         "type": "string"
        }
       ],
       "ref": "f68064c2-e8f1-445a-b454-3c922f7d0c6e",
       "rows": [
        [
         "0",
         "1.0",
         "2025-03-01 00:00:00",
         "1.0",
         "3",
         "test",
         "foo"
        ],
        [
         "1",
         "1.0",
         "2025-03-01 00:00:00",
         "1.0",
         "3",
         "train",
         "foo"
        ],
        [
         "2",
         "1.0",
         "2025-03-01 00:00:00",
         "1.0",
         "3",
         "test",
         "foo"
        ],
        [
         "3",
         "1.0",
         "2025-03-01 00:00:00",
         "1.0",
         "3",
         "train",
         "foo"
        ]
       ],
       "shape": {
        "columns": 6,
        "rows": 4
       }
      },
      "text/html": [
       "<div>\n",
       "<style scoped>\n",
       "    .dataframe tbody tr th:only-of-type {\n",
       "        vertical-align: middle;\n",
       "    }\n",
       "\n",
       "    .dataframe tbody tr th {\n",
       "        vertical-align: top;\n",
       "    }\n",
       "\n",
       "    .dataframe thead th {\n",
       "        text-align: right;\n",
       "    }\n",
       "</style>\n",
       "<table border=\"1\" class=\"dataframe\">\n",
       "  <thead>\n",
       "    <tr style=\"text-align: right;\">\n",
       "      <th></th>\n",
       "      <th>A</th>\n",
       "      <th>B</th>\n",
       "      <th>C</th>\n",
       "      <th>D</th>\n",
       "      <th>E</th>\n",
       "      <th>F</th>\n",
       "    </tr>\n",
       "  </thead>\n",
       "  <tbody>\n",
       "    <tr>\n",
       "      <th>0</th>\n",
       "      <td>1.0</td>\n",
       "      <td>2025-03-01</td>\n",
       "      <td>1.0</td>\n",
       "      <td>3</td>\n",
       "      <td>test</td>\n",
       "      <td>foo</td>\n",
       "    </tr>\n",
       "    <tr>\n",
       "      <th>1</th>\n",
       "      <td>1.0</td>\n",
       "      <td>2025-03-01</td>\n",
       "      <td>1.0</td>\n",
       "      <td>3</td>\n",
       "      <td>train</td>\n",
       "      <td>foo</td>\n",
       "    </tr>\n",
       "    <tr>\n",
       "      <th>2</th>\n",
       "      <td>1.0</td>\n",
       "      <td>2025-03-01</td>\n",
       "      <td>1.0</td>\n",
       "      <td>3</td>\n",
       "      <td>test</td>\n",
       "      <td>foo</td>\n",
       "    </tr>\n",
       "    <tr>\n",
       "      <th>3</th>\n",
       "      <td>1.0</td>\n",
       "      <td>2025-03-01</td>\n",
       "      <td>1.0</td>\n",
       "      <td>3</td>\n",
       "      <td>train</td>\n",
       "      <td>foo</td>\n",
       "    </tr>\n",
       "  </tbody>\n",
       "</table>\n",
       "</div>"
      ],
      "text/plain": [
       "     A          B    C  D      E    F\n",
       "0  1.0 2025-03-01  1.0  3   test  foo\n",
       "1  1.0 2025-03-01  1.0  3  train  foo\n",
       "2  1.0 2025-03-01  1.0  3   test  foo\n",
       "3  1.0 2025-03-01  1.0  3  train  foo"
      ]
     },
     "execution_count": 34,
     "metadata": {},
     "output_type": "execute_result"
    }
   ],
   "source": [
    "df2"
   ]
  },
  {
   "cell_type": "code",
   "execution_count": null,
   "id": "61dbe3c8",
   "metadata": {},
   "outputs": [
    {
     "data": {
      "application/vnd.microsoft.datawrangler.viewer.v0+json": {
       "columns": [
        {
         "name": "index",
         "rawType": "object",
         "type": "string"
        },
        {
         "name": "0",
         "rawType": "object",
         "type": "unknown"
        }
       ],
       "ref": "8d1ace74-2a94-4a97-b378-ce193e232b06",
       "rows": [
        [
         "A",
         "float64"
        ],
        [
         "B",
         "datetime64[s]"
        ],
        [
         "C",
         "float32"
        ],
        [
         "D",
         "int32"
        ],
        [
         "E",
         "category"
        ],
        [
         "F",
         "object"
        ]
       ],
       "shape": {
        "columns": 1,
        "rows": 6
       }
      },
      "text/plain": [
       "A          float64\n",
       "B    datetime64[s]\n",
       "C          float32\n",
       "D            int32\n",
       "E         category\n",
       "F           object\n",
       "dtype: object"
      ]
     },
     "execution_count": 35,
     "metadata": {},
     "output_type": "execute_result"
    }
   ],
   "source": [
    "df2.dtypes"
   ]
  },
  {
   "cell_type": "code",
   "execution_count": null,
   "id": "0968330b",
   "metadata": {},
   "outputs": [
    {
     "data": {
      "text/plain": [
       "<bound method NDFrame.head of                    A         B         C         D\n",
       "2025-08-01  0.462000  0.473742  0.913897  0.937692\n",
       "2025-08-02  0.547252  0.771015  0.131238  0.599524\n",
       "2025-08-03  0.788618  0.047442  0.230356  0.759574\n",
       "2025-08-04  0.327800  0.718718  0.353469  0.229184\n",
       "2025-08-05  0.405439  0.967067  0.763996  0.407322\n",
       "2025-08-06  0.925931  0.465068  0.666526  0.441330\n",
       "2025-08-07  0.033509  0.275903  0.535724  0.399846>"
      ]
     },
     "execution_count": 36,
     "metadata": {},
     "output_type": "execute_result"
    }
   ],
   "source": [
    "df.head"
   ]
  },
  {
   "cell_type": "code",
   "execution_count": null,
   "id": "e473179d",
   "metadata": {},
   "outputs": [
    {
     "data": {
      "text/plain": [
       "<bound method NDFrame.tail of                    A         B         C         D\n",
       "2025-08-01  0.462000  0.473742  0.913897  0.937692\n",
       "2025-08-02  0.547252  0.771015  0.131238  0.599524\n",
       "2025-08-03  0.788618  0.047442  0.230356  0.759574\n",
       "2025-08-04  0.327800  0.718718  0.353469  0.229184\n",
       "2025-08-05  0.405439  0.967067  0.763996  0.407322\n",
       "2025-08-06  0.925931  0.465068  0.666526  0.441330\n",
       "2025-08-07  0.033509  0.275903  0.535724  0.399846>"
      ]
     },
     "execution_count": 37,
     "metadata": {},
     "output_type": "execute_result"
    }
   ],
   "source": [
    "df.tail"
   ]
  },
  {
   "cell_type": "code",
   "execution_count": null,
   "id": "e7b12679",
   "metadata": {},
   "outputs": [
    {
     "data": {
      "application/vnd.microsoft.datawrangler.viewer.v0+json": {
       "columns": [
        {
         "name": "index",
         "rawType": "datetime64[ns]",
         "type": "datetime"
        },
        {
         "name": "A",
         "rawType": "float64",
         "type": "float"
        },
        {
         "name": "B",
         "rawType": "float64",
         "type": "float"
        },
        {
         "name": "C",
         "rawType": "float64",
         "type": "float"
        },
        {
         "name": "D",
         "rawType": "float64",
         "type": "float"
        }
       ],
       "ref": "c2208432-2b2a-4e56-9121-3b30d45c9459",
       "rows": [
        [
         "2025-08-01 00:00:00",
         "0.46199980274410146",
         "0.4737424970628906",
         "0.9138970885948066",
         "0.9376920090436418"
        ],
        [
         "2025-08-02 00:00:00",
         "0.5472519625818065",
         "0.7710148017892137",
         "0.13123827590756243",
         "0.5995237883005158"
        ]
       ],
       "shape": {
        "columns": 4,
        "rows": 2
       }
      },
      "text/html": [
       "<div>\n",
       "<style scoped>\n",
       "    .dataframe tbody tr th:only-of-type {\n",
       "        vertical-align: middle;\n",
       "    }\n",
       "\n",
       "    .dataframe tbody tr th {\n",
       "        vertical-align: top;\n",
       "    }\n",
       "\n",
       "    .dataframe thead th {\n",
       "        text-align: right;\n",
       "    }\n",
       "</style>\n",
       "<table border=\"1\" class=\"dataframe\">\n",
       "  <thead>\n",
       "    <tr style=\"text-align: right;\">\n",
       "      <th></th>\n",
       "      <th>A</th>\n",
       "      <th>B</th>\n",
       "      <th>C</th>\n",
       "      <th>D</th>\n",
       "    </tr>\n",
       "  </thead>\n",
       "  <tbody>\n",
       "    <tr>\n",
       "      <th>2025-08-01</th>\n",
       "      <td>0.462000</td>\n",
       "      <td>0.473742</td>\n",
       "      <td>0.913897</td>\n",
       "      <td>0.937692</td>\n",
       "    </tr>\n",
       "    <tr>\n",
       "      <th>2025-08-02</th>\n",
       "      <td>0.547252</td>\n",
       "      <td>0.771015</td>\n",
       "      <td>0.131238</td>\n",
       "      <td>0.599524</td>\n",
       "    </tr>\n",
       "  </tbody>\n",
       "</table>\n",
       "</div>"
      ],
      "text/plain": [
       "                   A         B         C         D\n",
       "2025-08-01  0.462000  0.473742  0.913897  0.937692\n",
       "2025-08-02  0.547252  0.771015  0.131238  0.599524"
      ]
     },
     "execution_count": 38,
     "metadata": {},
     "output_type": "execute_result"
    }
   ],
   "source": [
    "df.head(2)"
   ]
  },
  {
   "cell_type": "code",
   "execution_count": null,
   "id": "4fca66cc",
   "metadata": {},
   "outputs": [
    {
     "data": {
      "application/vnd.microsoft.datawrangler.viewer.v0+json": {
       "columns": [
        {
         "name": "index",
         "rawType": "datetime64[ns]",
         "type": "datetime"
        },
        {
         "name": "A",
         "rawType": "float64",
         "type": "float"
        },
        {
         "name": "B",
         "rawType": "float64",
         "type": "float"
        },
        {
         "name": "C",
         "rawType": "float64",
         "type": "float"
        },
        {
         "name": "D",
         "rawType": "float64",
         "type": "float"
        }
       ],
       "ref": "314cfbd1-0d32-4060-9daf-6beae2853759",
       "rows": [
        [
         "2025-08-06 00:00:00",
         "0.9259313507265632",
         "0.46506815084908404",
         "0.6665261034715857",
         "0.4413296661504196"
        ],
        [
         "2025-08-07 00:00:00",
         "0.03350854975050177",
         "0.27590338713168827",
         "0.5357236997014588",
         "0.3998463524639845"
        ]
       ],
       "shape": {
        "columns": 4,
        "rows": 2
       }
      },
      "text/html": [
       "<div>\n",
       "<style scoped>\n",
       "    .dataframe tbody tr th:only-of-type {\n",
       "        vertical-align: middle;\n",
       "    }\n",
       "\n",
       "    .dataframe tbody tr th {\n",
       "        vertical-align: top;\n",
       "    }\n",
       "\n",
       "    .dataframe thead th {\n",
       "        text-align: right;\n",
       "    }\n",
       "</style>\n",
       "<table border=\"1\" class=\"dataframe\">\n",
       "  <thead>\n",
       "    <tr style=\"text-align: right;\">\n",
       "      <th></th>\n",
       "      <th>A</th>\n",
       "      <th>B</th>\n",
       "      <th>C</th>\n",
       "      <th>D</th>\n",
       "    </tr>\n",
       "  </thead>\n",
       "  <tbody>\n",
       "    <tr>\n",
       "      <th>2025-08-06</th>\n",
       "      <td>0.925931</td>\n",
       "      <td>0.465068</td>\n",
       "      <td>0.666526</td>\n",
       "      <td>0.441330</td>\n",
       "    </tr>\n",
       "    <tr>\n",
       "      <th>2025-08-07</th>\n",
       "      <td>0.033509</td>\n",
       "      <td>0.275903</td>\n",
       "      <td>0.535724</td>\n",
       "      <td>0.399846</td>\n",
       "    </tr>\n",
       "  </tbody>\n",
       "</table>\n",
       "</div>"
      ],
      "text/plain": [
       "                   A         B         C         D\n",
       "2025-08-06  0.925931  0.465068  0.666526  0.441330\n",
       "2025-08-07  0.033509  0.275903  0.535724  0.399846"
      ]
     },
     "execution_count": 39,
     "metadata": {},
     "output_type": "execute_result"
    }
   ],
   "source": [
    "df.tail(2)"
   ]
  },
  {
   "cell_type": "code",
   "execution_count": null,
   "id": "a4688e12",
   "metadata": {},
   "outputs": [
    {
     "data": {
      "text/plain": [
       "DatetimeIndex(['2025-08-01', '2025-08-02', '2025-08-03', '2025-08-04',\n",
       "               '2025-08-05', '2025-08-06', '2025-08-07'],\n",
       "              dtype='datetime64[ns]', freq='D')"
      ]
     },
     "execution_count": 40,
     "metadata": {},
     "output_type": "execute_result"
    }
   ],
   "source": [
    "df.index"
   ]
  },
  {
   "cell_type": "code",
   "execution_count": null,
   "id": "bb1dc3a4",
   "metadata": {},
   "outputs": [
    {
     "data": {
      "text/plain": [
       "Index([0, 1, 2, 3], dtype='int64')"
      ]
     },
     "execution_count": 41,
     "metadata": {},
     "output_type": "execute_result"
    }
   ],
   "source": [
    "df2.index"
   ]
  },
  {
   "cell_type": "code",
   "execution_count": null,
   "id": "4d3dc26b",
   "metadata": {},
   "outputs": [
    {
     "data": {
      "text/plain": [
       "array([[1.0, Timestamp('2025-03-01 00:00:00'), 1.0, 3, 'test', 'foo'],\n",
       "       [1.0, Timestamp('2025-03-01 00:00:00'), 1.0, 3, 'train', 'foo'],\n",
       "       [1.0, Timestamp('2025-03-01 00:00:00'), 1.0, 3, 'test', 'foo'],\n",
       "       [1.0, Timestamp('2025-03-01 00:00:00'), 1.0, 3, 'train', 'foo']],\n",
       "      dtype=object)"
      ]
     },
     "execution_count": 44,
     "metadata": {},
     "output_type": "execute_result"
    }
   ],
   "source": [
    "# converting dataframe to array\n",
    "df2.to_numpy()"
   ]
  },
  {
   "cell_type": "code",
   "execution_count": null,
   "id": "6474a936",
   "metadata": {},
   "outputs": [
    {
     "data": {
      "application/vnd.microsoft.datawrangler.viewer.v0+json": {
       "columns": [
        {
         "name": "index",
         "rawType": "object",
         "type": "string"
        },
        {
         "name": "A",
         "rawType": "float64",
         "type": "float"
        },
        {
         "name": "B",
         "rawType": "object",
         "type": "unknown"
        },
        {
         "name": "C",
         "rawType": "float64",
         "type": "float"
        },
        {
         "name": "D",
         "rawType": "float64",
         "type": "float"
        }
       ],
       "ref": "d51dbb79-9d9f-41b7-a6d0-8eb8fe464967",
       "rows": [
        [
         "count",
         "4.0",
         "4",
         "4.0",
         "4.0"
        ],
        [
         "mean",
         "1.0",
         "2025-03-01 00:00:00",
         "1.0",
         "3.0"
        ],
        [
         "min",
         "1.0",
         "2025-03-01 00:00:00",
         "1.0",
         "3.0"
        ],
        [
         "25%",
         "1.0",
         "2025-03-01 00:00:00",
         "1.0",
         "3.0"
        ],
        [
         "50%",
         "1.0",
         "2025-03-01 00:00:00",
         "1.0",
         "3.0"
        ],
        [
         "75%",
         "1.0",
         "2025-03-01 00:00:00",
         "1.0",
         "3.0"
        ],
        [
         "max",
         "1.0",
         "2025-03-01 00:00:00",
         "1.0",
         "3.0"
        ],
        [
         "std",
         "0.0",
         null,
         "0.0",
         "0.0"
        ]
       ],
       "shape": {
        "columns": 4,
        "rows": 8
       }
      },
      "text/html": [
       "<div>\n",
       "<style scoped>\n",
       "    .dataframe tbody tr th:only-of-type {\n",
       "        vertical-align: middle;\n",
       "    }\n",
       "\n",
       "    .dataframe tbody tr th {\n",
       "        vertical-align: top;\n",
       "    }\n",
       "\n",
       "    .dataframe thead th {\n",
       "        text-align: right;\n",
       "    }\n",
       "</style>\n",
       "<table border=\"1\" class=\"dataframe\">\n",
       "  <thead>\n",
       "    <tr style=\"text-align: right;\">\n",
       "      <th></th>\n",
       "      <th>A</th>\n",
       "      <th>B</th>\n",
       "      <th>C</th>\n",
       "      <th>D</th>\n",
       "    </tr>\n",
       "  </thead>\n",
       "  <tbody>\n",
       "    <tr>\n",
       "      <th>count</th>\n",
       "      <td>4.0</td>\n",
       "      <td>4</td>\n",
       "      <td>4.0</td>\n",
       "      <td>4.0</td>\n",
       "    </tr>\n",
       "    <tr>\n",
       "      <th>mean</th>\n",
       "      <td>1.0</td>\n",
       "      <td>2025-03-01 00:00:00</td>\n",
       "      <td>1.0</td>\n",
       "      <td>3.0</td>\n",
       "    </tr>\n",
       "    <tr>\n",
       "      <th>min</th>\n",
       "      <td>1.0</td>\n",
       "      <td>2025-03-01 00:00:00</td>\n",
       "      <td>1.0</td>\n",
       "      <td>3.0</td>\n",
       "    </tr>\n",
       "    <tr>\n",
       "      <th>25%</th>\n",
       "      <td>1.0</td>\n",
       "      <td>2025-03-01 00:00:00</td>\n",
       "      <td>1.0</td>\n",
       "      <td>3.0</td>\n",
       "    </tr>\n",
       "    <tr>\n",
       "      <th>50%</th>\n",
       "      <td>1.0</td>\n",
       "      <td>2025-03-01 00:00:00</td>\n",
       "      <td>1.0</td>\n",
       "      <td>3.0</td>\n",
       "    </tr>\n",
       "    <tr>\n",
       "      <th>75%</th>\n",
       "      <td>1.0</td>\n",
       "      <td>2025-03-01 00:00:00</td>\n",
       "      <td>1.0</td>\n",
       "      <td>3.0</td>\n",
       "    </tr>\n",
       "    <tr>\n",
       "      <th>max</th>\n",
       "      <td>1.0</td>\n",
       "      <td>2025-03-01 00:00:00</td>\n",
       "      <td>1.0</td>\n",
       "      <td>3.0</td>\n",
       "    </tr>\n",
       "    <tr>\n",
       "      <th>std</th>\n",
       "      <td>0.0</td>\n",
       "      <td>NaN</td>\n",
       "      <td>0.0</td>\n",
       "      <td>0.0</td>\n",
       "    </tr>\n",
       "  </tbody>\n",
       "</table>\n",
       "</div>"
      ],
      "text/plain": [
       "         A                    B    C    D\n",
       "count  4.0                    4  4.0  4.0\n",
       "mean   1.0  2025-03-01 00:00:00  1.0  3.0\n",
       "min    1.0  2025-03-01 00:00:00  1.0  3.0\n",
       "25%    1.0  2025-03-01 00:00:00  1.0  3.0\n",
       "50%    1.0  2025-03-01 00:00:00  1.0  3.0\n",
       "75%    1.0  2025-03-01 00:00:00  1.0  3.0\n",
       "max    1.0  2025-03-01 00:00:00  1.0  3.0\n",
       "std    0.0                  NaN  0.0  0.0"
      ]
     },
     "execution_count": 46,
     "metadata": {},
     "output_type": "execute_result"
    }
   ],
   "source": [
    "df2.describe()"
   ]
  },
  {
   "cell_type": "code",
   "execution_count": null,
   "id": "84e2ee08",
   "metadata": {},
   "outputs": [
    {
     "data": {
      "application/vnd.microsoft.datawrangler.viewer.v0+json": {
       "columns": [
        {
         "name": "index",
         "rawType": "object",
         "type": "string"
        },
        {
         "name": "0",
         "rawType": "object",
         "type": "unknown"
        },
        {
         "name": "1",
         "rawType": "object",
         "type": "unknown"
        },
        {
         "name": "2",
         "rawType": "object",
         "type": "unknown"
        },
        {
         "name": "3",
         "rawType": "object",
         "type": "unknown"
        }
       ],
       "ref": "b0543ca4-628b-49e0-b656-f7740f7008f4",
       "rows": [
        [
         "A",
         "1.0",
         "1.0",
         "1.0",
         "1.0"
        ],
        [
         "B",
         "2025-03-01 00:00:00",
         "2025-03-01 00:00:00",
         "2025-03-01 00:00:00",
         "2025-03-01 00:00:00"
        ],
        [
         "C",
         "1.0",
         "1.0",
         "1.0",
         "1.0"
        ],
        [
         "D",
         "3",
         "3",
         "3",
         "3"
        ],
        [
         "E",
         "test",
         "train",
         "test",
         "train"
        ],
        [
         "F",
         "foo",
         "foo",
         "foo",
         "foo"
        ]
       ],
       "shape": {
        "columns": 4,
        "rows": 6
       }
      },
      "text/html": [
       "<div>\n",
       "<style scoped>\n",
       "    .dataframe tbody tr th:only-of-type {\n",
       "        vertical-align: middle;\n",
       "    }\n",
       "\n",
       "    .dataframe tbody tr th {\n",
       "        vertical-align: top;\n",
       "    }\n",
       "\n",
       "    .dataframe thead th {\n",
       "        text-align: right;\n",
       "    }\n",
       "</style>\n",
       "<table border=\"1\" class=\"dataframe\">\n",
       "  <thead>\n",
       "    <tr style=\"text-align: right;\">\n",
       "      <th></th>\n",
       "      <th>0</th>\n",
       "      <th>1</th>\n",
       "      <th>2</th>\n",
       "      <th>3</th>\n",
       "    </tr>\n",
       "  </thead>\n",
       "  <tbody>\n",
       "    <tr>\n",
       "      <th>A</th>\n",
       "      <td>1.0</td>\n",
       "      <td>1.0</td>\n",
       "      <td>1.0</td>\n",
       "      <td>1.0</td>\n",
       "    </tr>\n",
       "    <tr>\n",
       "      <th>B</th>\n",
       "      <td>2025-03-01 00:00:00</td>\n",
       "      <td>2025-03-01 00:00:00</td>\n",
       "      <td>2025-03-01 00:00:00</td>\n",
       "      <td>2025-03-01 00:00:00</td>\n",
       "    </tr>\n",
       "    <tr>\n",
       "      <th>C</th>\n",
       "      <td>1.0</td>\n",
       "      <td>1.0</td>\n",
       "      <td>1.0</td>\n",
       "      <td>1.0</td>\n",
       "    </tr>\n",
       "    <tr>\n",
       "      <th>D</th>\n",
       "      <td>3</td>\n",
       "      <td>3</td>\n",
       "      <td>3</td>\n",
       "      <td>3</td>\n",
       "    </tr>\n",
       "    <tr>\n",
       "      <th>E</th>\n",
       "      <td>test</td>\n",
       "      <td>train</td>\n",
       "      <td>test</td>\n",
       "      <td>train</td>\n",
       "    </tr>\n",
       "    <tr>\n",
       "      <th>F</th>\n",
       "      <td>foo</td>\n",
       "      <td>foo</td>\n",
       "      <td>foo</td>\n",
       "      <td>foo</td>\n",
       "    </tr>\n",
       "  </tbody>\n",
       "</table>\n",
       "</div>"
      ],
      "text/plain": [
       "                     0                    1                    2  \\\n",
       "A                  1.0                  1.0                  1.0   \n",
       "B  2025-03-01 00:00:00  2025-03-01 00:00:00  2025-03-01 00:00:00   \n",
       "C                  1.0                  1.0                  1.0   \n",
       "D                    3                    3                    3   \n",
       "E                 test                train                 test   \n",
       "F                  foo                  foo                  foo   \n",
       "\n",
       "                     3  \n",
       "A                  1.0  \n",
       "B  2025-03-01 00:00:00  \n",
       "C                  1.0  \n",
       "D                    3  \n",
       "E                train  \n",
       "F                  foo  "
      ]
     },
     "execution_count": 49,
     "metadata": {},
     "output_type": "execute_result"
    }
   ],
   "source": [
    "# transpose of dataframe\n",
    "df2.T"
   ]
  },
  {
   "cell_type": "code",
   "execution_count": null,
   "id": "85a2a4ba",
   "metadata": {},
   "outputs": [
    {
     "data": {
      "application/vnd.microsoft.datawrangler.viewer.v0+json": {
       "columns": [
        {
         "name": "index",
         "rawType": "int64",
         "type": "integer"
        },
        {
         "name": "A",
         "rawType": "float64",
         "type": "float"
        },
        {
         "name": "B",
         "rawType": "datetime64[s]",
         "type": "unknown"
        },
        {
         "name": "C",
         "rawType": "float32",
         "type": "float"
        },
        {
         "name": "D",
         "rawType": "int32",
         "type": "integer"
        },
        {
         "name": "E",
         "rawType": "category",
         "type": "unknown"
        },
        {
         "name": "F",
         "rawType": "object",
         "type": "string"
        }
       ],
       "ref": "6569163c-4fda-4aad-bdbe-b38ee088d846",
       "rows": [
        [
         "0",
         "1.0",
         "2025-03-01 00:00:00",
         "1.0",
         "3",
         "test",
         "foo"
        ],
        [
         "1",
         "1.0",
         "2025-03-01 00:00:00",
         "1.0",
         "3",
         "train",
         "foo"
        ],
        [
         "2",
         "1.0",
         "2025-03-01 00:00:00",
         "1.0",
         "3",
         "test",
         "foo"
        ],
        [
         "3",
         "1.0",
         "2025-03-01 00:00:00",
         "1.0",
         "3",
         "train",
         "foo"
        ]
       ],
       "shape": {
        "columns": 6,
        "rows": 4
       }
      },
      "text/html": [
       "<div>\n",
       "<style scoped>\n",
       "    .dataframe tbody tr th:only-of-type {\n",
       "        vertical-align: middle;\n",
       "    }\n",
       "\n",
       "    .dataframe tbody tr th {\n",
       "        vertical-align: top;\n",
       "    }\n",
       "\n",
       "    .dataframe thead th {\n",
       "        text-align: right;\n",
       "    }\n",
       "</style>\n",
       "<table border=\"1\" class=\"dataframe\">\n",
       "  <thead>\n",
       "    <tr style=\"text-align: right;\">\n",
       "      <th></th>\n",
       "      <th>A</th>\n",
       "      <th>B</th>\n",
       "      <th>C</th>\n",
       "      <th>D</th>\n",
       "      <th>E</th>\n",
       "      <th>F</th>\n",
       "    </tr>\n",
       "  </thead>\n",
       "  <tbody>\n",
       "    <tr>\n",
       "      <th>0</th>\n",
       "      <td>1.0</td>\n",
       "      <td>2025-03-01</td>\n",
       "      <td>1.0</td>\n",
       "      <td>3</td>\n",
       "      <td>test</td>\n",
       "      <td>foo</td>\n",
       "    </tr>\n",
       "    <tr>\n",
       "      <th>1</th>\n",
       "      <td>1.0</td>\n",
       "      <td>2025-03-01</td>\n",
       "      <td>1.0</td>\n",
       "      <td>3</td>\n",
       "      <td>train</td>\n",
       "      <td>foo</td>\n",
       "    </tr>\n",
       "    <tr>\n",
       "      <th>2</th>\n",
       "      <td>1.0</td>\n",
       "      <td>2025-03-01</td>\n",
       "      <td>1.0</td>\n",
       "      <td>3</td>\n",
       "      <td>test</td>\n",
       "      <td>foo</td>\n",
       "    </tr>\n",
       "    <tr>\n",
       "      <th>3</th>\n",
       "      <td>1.0</td>\n",
       "      <td>2025-03-01</td>\n",
       "      <td>1.0</td>\n",
       "      <td>3</td>\n",
       "      <td>train</td>\n",
       "      <td>foo</td>\n",
       "    </tr>\n",
       "  </tbody>\n",
       "</table>\n",
       "</div>"
      ],
      "text/plain": [
       "     A          B    C  D      E    F\n",
       "0  1.0 2025-03-01  1.0  3   test  foo\n",
       "1  1.0 2025-03-01  1.0  3  train  foo\n",
       "2  1.0 2025-03-01  1.0  3   test  foo\n",
       "3  1.0 2025-03-01  1.0  3  train  foo"
      ]
     },
     "execution_count": 52,
     "metadata": {},
     "output_type": "execute_result"
    }
   ],
   "source": [
    "df2.sort_index(axis=1, ascending=True) \n",
    "#if you erite here ascending = False then it give you data in decending order"
   ]
  },
  {
   "cell_type": "code",
   "execution_count": null,
   "id": "af2e8cd8",
   "metadata": {},
   "outputs": [
    {
     "data": {
      "application/vnd.microsoft.datawrangler.viewer.v0+json": {
       "columns": [
        {
         "name": "index",
         "rawType": "int64",
         "type": "integer"
        },
        {
         "name": "A",
         "rawType": "float64",
         "type": "float"
        },
        {
         "name": "B",
         "rawType": "datetime64[s]",
         "type": "unknown"
        },
        {
         "name": "C",
         "rawType": "float32",
         "type": "float"
        },
        {
         "name": "D",
         "rawType": "int32",
         "type": "integer"
        },
        {
         "name": "E",
         "rawType": "category",
         "type": "unknown"
        },
        {
         "name": "F",
         "rawType": "object",
         "type": "string"
        }
       ],
       "ref": "8f1ba3c5-eca9-458d-ac9e-b67c35e767d6",
       "rows": [
        [
         "0",
         "1.0",
         "2025-03-01 00:00:00",
         "1.0",
         "3",
         "test",
         "foo"
        ],
        [
         "1",
         "1.0",
         "2025-03-01 00:00:00",
         "1.0",
         "3",
         "train",
         "foo"
        ],
        [
         "2",
         "1.0",
         "2025-03-01 00:00:00",
         "1.0",
         "3",
         "test",
         "foo"
        ],
        [
         "3",
         "1.0",
         "2025-03-01 00:00:00",
         "1.0",
         "3",
         "train",
         "foo"
        ]
       ],
       "shape": {
        "columns": 6,
        "rows": 4
       }
      },
      "text/html": [
       "<div>\n",
       "<style scoped>\n",
       "    .dataframe tbody tr th:only-of-type {\n",
       "        vertical-align: middle;\n",
       "    }\n",
       "\n",
       "    .dataframe tbody tr th {\n",
       "        vertical-align: top;\n",
       "    }\n",
       "\n",
       "    .dataframe thead th {\n",
       "        text-align: right;\n",
       "    }\n",
       "</style>\n",
       "<table border=\"1\" class=\"dataframe\">\n",
       "  <thead>\n",
       "    <tr style=\"text-align: right;\">\n",
       "      <th></th>\n",
       "      <th>A</th>\n",
       "      <th>B</th>\n",
       "      <th>C</th>\n",
       "      <th>D</th>\n",
       "      <th>E</th>\n",
       "      <th>F</th>\n",
       "    </tr>\n",
       "  </thead>\n",
       "  <tbody>\n",
       "    <tr>\n",
       "      <th>0</th>\n",
       "      <td>1.0</td>\n",
       "      <td>2025-03-01</td>\n",
       "      <td>1.0</td>\n",
       "      <td>3</td>\n",
       "      <td>test</td>\n",
       "      <td>foo</td>\n",
       "    </tr>\n",
       "    <tr>\n",
       "      <th>1</th>\n",
       "      <td>1.0</td>\n",
       "      <td>2025-03-01</td>\n",
       "      <td>1.0</td>\n",
       "      <td>3</td>\n",
       "      <td>train</td>\n",
       "      <td>foo</td>\n",
       "    </tr>\n",
       "    <tr>\n",
       "      <th>2</th>\n",
       "      <td>1.0</td>\n",
       "      <td>2025-03-01</td>\n",
       "      <td>1.0</td>\n",
       "      <td>3</td>\n",
       "      <td>test</td>\n",
       "      <td>foo</td>\n",
       "    </tr>\n",
       "    <tr>\n",
       "      <th>3</th>\n",
       "      <td>1.0</td>\n",
       "      <td>2025-03-01</td>\n",
       "      <td>1.0</td>\n",
       "      <td>3</td>\n",
       "      <td>train</td>\n",
       "      <td>foo</td>\n",
       "    </tr>\n",
       "  </tbody>\n",
       "</table>\n",
       "</div>"
      ],
      "text/plain": [
       "     A          B    C  D      E    F\n",
       "0  1.0 2025-03-01  1.0  3   test  foo\n",
       "1  1.0 2025-03-01  1.0  3  train  foo\n",
       "2  1.0 2025-03-01  1.0  3   test  foo\n",
       "3  1.0 2025-03-01  1.0  3  train  foo"
      ]
     },
     "execution_count": 53,
     "metadata": {},
     "output_type": "execute_result"
    }
   ],
   "source": [
    "# sort by a specific column\n",
    "df2.sort_values(by=\"B\")"
   ]
  },
  {
   "cell_type": "code",
   "execution_count": null,
   "id": "9eb83d4a",
   "metadata": {},
   "outputs": [
    {
     "data": {
      "application/vnd.microsoft.datawrangler.viewer.v0+json": {
       "columns": [
        {
         "name": "index",
         "rawType": "int64",
         "type": "integer"
        },
        {
         "name": "A",
         "rawType": "float64",
         "type": "float"
        },
        {
         "name": "B",
         "rawType": "datetime64[s]",
         "type": "unknown"
        },
        {
         "name": "C",
         "rawType": "float32",
         "type": "float"
        },
        {
         "name": "D",
         "rawType": "int32",
         "type": "integer"
        },
        {
         "name": "E",
         "rawType": "category",
         "type": "unknown"
        },
        {
         "name": "F",
         "rawType": "object",
         "type": "string"
        }
       ],
       "ref": "1cf8f59f-d13f-4c05-ab35-6762aae04949",
       "rows": [
        [
         "0",
         "1.0",
         "2025-03-01 00:00:00",
         "1.0",
         "3",
         "test",
         "foo"
        ],
        [
         "1",
         "1.0",
         "2025-03-01 00:00:00",
         "1.0",
         "3",
         "train",
         "foo"
        ],
        [
         "2",
         "1.0",
         "2025-03-01 00:00:00",
         "1.0",
         "3",
         "test",
         "foo"
        ],
        [
         "3",
         "1.0",
         "2025-03-01 00:00:00",
         "1.0",
         "3",
         "train",
         "foo"
        ]
       ],
       "shape": {
        "columns": 6,
        "rows": 4
       }
      },
      "text/html": [
       "<div>\n",
       "<style scoped>\n",
       "    .dataframe tbody tr th:only-of-type {\n",
       "        vertical-align: middle;\n",
       "    }\n",
       "\n",
       "    .dataframe tbody tr th {\n",
       "        vertical-align: top;\n",
       "    }\n",
       "\n",
       "    .dataframe thead th {\n",
       "        text-align: right;\n",
       "    }\n",
       "</style>\n",
       "<table border=\"1\" class=\"dataframe\">\n",
       "  <thead>\n",
       "    <tr style=\"text-align: right;\">\n",
       "      <th></th>\n",
       "      <th>A</th>\n",
       "      <th>B</th>\n",
       "      <th>C</th>\n",
       "      <th>D</th>\n",
       "      <th>E</th>\n",
       "      <th>F</th>\n",
       "    </tr>\n",
       "  </thead>\n",
       "  <tbody>\n",
       "    <tr>\n",
       "      <th>0</th>\n",
       "      <td>1.0</td>\n",
       "      <td>2025-03-01</td>\n",
       "      <td>1.0</td>\n",
       "      <td>3</td>\n",
       "      <td>test</td>\n",
       "      <td>foo</td>\n",
       "    </tr>\n",
       "    <tr>\n",
       "      <th>1</th>\n",
       "      <td>1.0</td>\n",
       "      <td>2025-03-01</td>\n",
       "      <td>1.0</td>\n",
       "      <td>3</td>\n",
       "      <td>train</td>\n",
       "      <td>foo</td>\n",
       "    </tr>\n",
       "    <tr>\n",
       "      <th>2</th>\n",
       "      <td>1.0</td>\n",
       "      <td>2025-03-01</td>\n",
       "      <td>1.0</td>\n",
       "      <td>3</td>\n",
       "      <td>test</td>\n",
       "      <td>foo</td>\n",
       "    </tr>\n",
       "    <tr>\n",
       "      <th>3</th>\n",
       "      <td>1.0</td>\n",
       "      <td>2025-03-01</td>\n",
       "      <td>1.0</td>\n",
       "      <td>3</td>\n",
       "      <td>train</td>\n",
       "      <td>foo</td>\n",
       "    </tr>\n",
       "  </tbody>\n",
       "</table>\n",
       "</div>"
      ],
      "text/plain": [
       "     A          B    C  D      E    F\n",
       "0  1.0 2025-03-01  1.0  3   test  foo\n",
       "1  1.0 2025-03-01  1.0  3  train  foo\n",
       "2  1.0 2025-03-01  1.0  3   test  foo\n",
       "3  1.0 2025-03-01  1.0  3  train  foo"
      ]
     },
     "execution_count": 55,
     "metadata": {},
     "output_type": "execute_result"
    }
   ],
   "source": [
    "df2.sort_values(by=\"B\" , ascending=True)"
   ]
  },
  {
   "cell_type": "code",
   "execution_count": null,
   "id": "d178fa03",
   "metadata": {},
   "outputs": [
    {
     "data": {
      "application/vnd.microsoft.datawrangler.viewer.v0+json": {
       "columns": [
        {
         "name": "index",
         "rawType": "datetime64[ns]",
         "type": "datetime"
        },
        {
         "name": "A",
         "rawType": "float64",
         "type": "float"
        },
        {
         "name": "B",
         "rawType": "float64",
         "type": "float"
        },
        {
         "name": "C",
         "rawType": "float64",
         "type": "float"
        },
        {
         "name": "D",
         "rawType": "float64",
         "type": "float"
        }
       ],
       "ref": "4a0c9d24-2b31-4289-930b-a965fdffef72",
       "rows": [
        [
         "2025-08-01 00:00:00",
         "0.46199980274410146",
         "0.4737424970628906",
         "0.9138970885948066",
         "0.9376920090436418"
        ],
        [
         "2025-08-02 00:00:00",
         "0.5472519625818065",
         "0.7710148017892137",
         "0.13123827590756243",
         "0.5995237883005158"
        ],
        [
         "2025-08-03 00:00:00",
         "0.7886178761968037",
         "0.047441782826066925",
         "0.2303555454863766",
         "0.7595735201436863"
        ]
       ],
       "shape": {
        "columns": 4,
        "rows": 3
       }
      },
      "text/html": [
       "<div>\n",
       "<style scoped>\n",
       "    .dataframe tbody tr th:only-of-type {\n",
       "        vertical-align: middle;\n",
       "    }\n",
       "\n",
       "    .dataframe tbody tr th {\n",
       "        vertical-align: top;\n",
       "    }\n",
       "\n",
       "    .dataframe thead th {\n",
       "        text-align: right;\n",
       "    }\n",
       "</style>\n",
       "<table border=\"1\" class=\"dataframe\">\n",
       "  <thead>\n",
       "    <tr style=\"text-align: right;\">\n",
       "      <th></th>\n",
       "      <th>A</th>\n",
       "      <th>B</th>\n",
       "      <th>C</th>\n",
       "      <th>D</th>\n",
       "    </tr>\n",
       "  </thead>\n",
       "  <tbody>\n",
       "    <tr>\n",
       "      <th>2025-08-01</th>\n",
       "      <td>0.462000</td>\n",
       "      <td>0.473742</td>\n",
       "      <td>0.913897</td>\n",
       "      <td>0.937692</td>\n",
       "    </tr>\n",
       "    <tr>\n",
       "      <th>2025-08-02</th>\n",
       "      <td>0.547252</td>\n",
       "      <td>0.771015</td>\n",
       "      <td>0.131238</td>\n",
       "      <td>0.599524</td>\n",
       "    </tr>\n",
       "    <tr>\n",
       "      <th>2025-08-03</th>\n",
       "      <td>0.788618</td>\n",
       "      <td>0.047442</td>\n",
       "      <td>0.230356</td>\n",
       "      <td>0.759574</td>\n",
       "    </tr>\n",
       "  </tbody>\n",
       "</table>\n",
       "</div>"
      ],
      "text/plain": [
       "                   A         B         C         D\n",
       "2025-08-01  0.462000  0.473742  0.913897  0.937692\n",
       "2025-08-02  0.547252  0.771015  0.131238  0.599524\n",
       "2025-08-03  0.788618  0.047442  0.230356  0.759574"
      ]
     },
     "execution_count": 58,
     "metadata": {},
     "output_type": "execute_result"
    }
   ],
   "source": [
    "df[0:3]"
   ]
  },
  {
   "cell_type": "code",
   "execution_count": null,
   "id": "ad589a59",
   "metadata": {},
   "outputs": [
    {
     "data": {
      "application/vnd.microsoft.datawrangler.viewer.v0+json": {
       "columns": [
        {
         "name": "index",
         "rawType": "object",
         "type": "string"
        },
        {
         "name": "2025-08-01 00:00:00",
         "rawType": "float64",
         "type": "float"
        }
       ],
       "ref": "dade1114-dbad-442e-b724-245f219e4236",
       "rows": [
        [
         "A",
         "0.46199980274410146"
        ],
        [
         "B",
         "0.4737424970628906"
        ],
        [
         "C",
         "0.9138970885948066"
        ],
        [
         "D",
         "0.9376920090436418"
        ]
       ],
       "shape": {
        "columns": 1,
        "rows": 4
       }
      },
      "text/plain": [
       "A    0.462000\n",
       "B    0.473742\n",
       "C    0.913897\n",
       "D    0.937692\n",
       "Name: 2025-08-01 00:00:00, dtype: float64"
      ]
     },
     "execution_count": 59,
     "metadata": {},
     "output_type": "execute_result"
    }
   ],
   "source": [
    "df.loc[dates[0]]"
   ]
  },
  {
   "cell_type": "code",
   "execution_count": null,
   "id": "4a86b22a",
   "metadata": {},
   "outputs": [
    {
     "data": {
      "application/vnd.microsoft.datawrangler.viewer.v0+json": {
       "columns": [
        {
         "name": "index",
         "rawType": "int64",
         "type": "integer"
        },
        {
         "name": "A",
         "rawType": "float64",
         "type": "float"
        },
        {
         "name": "B",
         "rawType": "datetime64[s]",
         "type": "unknown"
        }
       ],
       "ref": "55336571-ee1c-4c0c-aaf7-8794bb06942b",
       "rows": [
        [
         "0",
         "1.0",
         "2025-03-01 00:00:00"
        ],
        [
         "1",
         "1.0",
         "2025-03-01 00:00:00"
        ],
        [
         "2",
         "1.0",
         "2025-03-01 00:00:00"
        ],
        [
         "3",
         "1.0",
         "2025-03-01 00:00:00"
        ]
       ],
       "shape": {
        "columns": 2,
        "rows": 4
       }
      },
      "text/html": [
       "<div>\n",
       "<style scoped>\n",
       "    .dataframe tbody tr th:only-of-type {\n",
       "        vertical-align: middle;\n",
       "    }\n",
       "\n",
       "    .dataframe tbody tr th {\n",
       "        vertical-align: top;\n",
       "    }\n",
       "\n",
       "    .dataframe thead th {\n",
       "        text-align: right;\n",
       "    }\n",
       "</style>\n",
       "<table border=\"1\" class=\"dataframe\">\n",
       "  <thead>\n",
       "    <tr style=\"text-align: right;\">\n",
       "      <th></th>\n",
       "      <th>A</th>\n",
       "      <th>B</th>\n",
       "    </tr>\n",
       "  </thead>\n",
       "  <tbody>\n",
       "    <tr>\n",
       "      <th>0</th>\n",
       "      <td>1.0</td>\n",
       "      <td>2025-03-01</td>\n",
       "    </tr>\n",
       "    <tr>\n",
       "      <th>1</th>\n",
       "      <td>1.0</td>\n",
       "      <td>2025-03-01</td>\n",
       "    </tr>\n",
       "    <tr>\n",
       "      <th>2</th>\n",
       "      <td>1.0</td>\n",
       "      <td>2025-03-01</td>\n",
       "    </tr>\n",
       "    <tr>\n",
       "      <th>3</th>\n",
       "      <td>1.0</td>\n",
       "      <td>2025-03-01</td>\n",
       "    </tr>\n",
       "  </tbody>\n",
       "</table>\n",
       "</div>"
      ],
      "text/plain": [
       "     A          B\n",
       "0  1.0 2025-03-01\n",
       "1  1.0 2025-03-01\n",
       "2  1.0 2025-03-01\n",
       "3  1.0 2025-03-01"
      ]
     },
     "execution_count": 16,
     "metadata": {},
     "output_type": "execute_result"
    }
   ],
   "source": [
    "df2.loc[:,[\"A\",\"B\"]]"
   ]
  },
  {
   "cell_type": "code",
   "execution_count": null,
   "id": "68a34612",
   "metadata": {},
   "outputs": [
    {
     "data": {
      "application/vnd.microsoft.datawrangler.viewer.v0+json": {
       "columns": [
        {
         "name": "index",
         "rawType": "datetime64[ns]",
         "type": "datetime"
        },
        {
         "name": "A",
         "rawType": "float64",
         "type": "float"
        },
        {
         "name": "B",
         "rawType": "float64",
         "type": "float"
        }
       ],
       "ref": "674c89fc-39d7-4f16-ba61-39841e27099e",
       "rows": [
        [
         "2025-08-02 00:00:00",
         "0.06369865094318838",
         "0.3457646305963694"
        ],
        [
         "2025-08-03 00:00:00",
         "0.23162916432594205",
         "0.39233569898156473"
        ],
        [
         "2025-08-04 00:00:00",
         "0.20184091850014252",
         "0.290187679598776"
        ]
       ],
       "shape": {
        "columns": 2,
        "rows": 3
       }
      },
      "text/html": [
       "<div>\n",
       "<style scoped>\n",
       "    .dataframe tbody tr th:only-of-type {\n",
       "        vertical-align: middle;\n",
       "    }\n",
       "\n",
       "    .dataframe tbody tr th {\n",
       "        vertical-align: top;\n",
       "    }\n",
       "\n",
       "    .dataframe thead th {\n",
       "        text-align: right;\n",
       "    }\n",
       "</style>\n",
       "<table border=\"1\" class=\"dataframe\">\n",
       "  <thead>\n",
       "    <tr style=\"text-align: right;\">\n",
       "      <th></th>\n",
       "      <th>A</th>\n",
       "      <th>B</th>\n",
       "    </tr>\n",
       "  </thead>\n",
       "  <tbody>\n",
       "    <tr>\n",
       "      <th>2025-08-02</th>\n",
       "      <td>0.063699</td>\n",
       "      <td>0.345765</td>\n",
       "    </tr>\n",
       "    <tr>\n",
       "      <th>2025-08-03</th>\n",
       "      <td>0.231629</td>\n",
       "      <td>0.392336</td>\n",
       "    </tr>\n",
       "    <tr>\n",
       "      <th>2025-08-04</th>\n",
       "      <td>0.201841</td>\n",
       "      <td>0.290188</td>\n",
       "    </tr>\n",
       "  </tbody>\n",
       "</table>\n",
       "</div>"
      ],
      "text/plain": [
       "                   A         B\n",
       "2025-08-02  0.063699  0.345765\n",
       "2025-08-03  0.231629  0.392336\n",
       "2025-08-04  0.201841  0.290188"
      ]
     },
     "execution_count": 22,
     "metadata": {},
     "output_type": "execute_result"
    }
   ],
   "source": [
    "## loc[row_index ,[column_name]]\n",
    "\n",
    "df.loc[\"20250802\":\"20250804\",[\"A\",\"B\"]]"
   ]
  },
  {
   "cell_type": "code",
   "execution_count": 14,
   "id": "4977d9f1",
   "metadata": {},
   "outputs": [
    {
     "data": {
      "text/plain": [
       "np.float64(0.5038249848113706)"
      ]
     },
     "execution_count": 14,
     "metadata": {},
     "output_type": "execute_result"
    }
   ],
   "source": [
    "df.at[dates[0],\"A\"]"
   ]
  },
  {
   "cell_type": "code",
   "execution_count": 16,
   "id": "2d606638",
   "metadata": {},
   "outputs": [
    {
     "data": {
      "application/vnd.microsoft.datawrangler.viewer.v0+json": {
       "columns": [
        {
         "name": "index",
         "rawType": "object",
         "type": "string"
        },
        {
         "name": "2025-08-04 00:00:00",
         "rawType": "float64",
         "type": "float"
        }
       ],
       "ref": "ba1e5b92-76a3-4ff5-b269-35b81c633a50",
       "rows": [
        [
         "A",
         "0.21978891843558657"
        ],
        [
         "B",
         "0.41535488649457186"
        ],
        [
         "C",
         "0.6531345160175172"
        ],
        [
         "D",
         "0.5277896513228117"
        ]
       ],
       "shape": {
        "columns": 1,
        "rows": 4
       }
      },
      "text/plain": [
       "A    0.219789\n",
       "B    0.415355\n",
       "C    0.653135\n",
       "D    0.527790\n",
       "Name: 2025-08-04 00:00:00, dtype: float64"
      ]
     },
     "execution_count": 16,
     "metadata": {},
     "output_type": "execute_result"
    }
   ],
   "source": [
    "# postion wise\n",
    "df.iloc[3]"
   ]
  },
  {
   "cell_type": "code",
   "execution_count": 17,
   "id": "13644564",
   "metadata": {},
   "outputs": [
    {
     "data": {
      "application/vnd.microsoft.datawrangler.viewer.v0+json": {
       "columns": [
        {
         "name": "index",
         "rawType": "datetime64[ns]",
         "type": "datetime"
        },
        {
         "name": "A",
         "rawType": "float64",
         "type": "float"
        },
        {
         "name": "B",
         "rawType": "float64",
         "type": "float"
        },
        {
         "name": "C",
         "rawType": "float64",
         "type": "float"
        },
        {
         "name": "D",
         "rawType": "float64",
         "type": "float"
        }
       ],
       "ref": "afbb218d-40e9-4dd0-ab85-e0f156ee23f0",
       "rows": [
        [
         "2025-08-01 00:00:00",
         "0.5038249848113706",
         "0.5303987040155753",
         "0.5001507140182756",
         "0.8659684421136596"
        ],
        [
         "2025-08-02 00:00:00",
         "0.7095523583549147",
         "0.12535148657966277",
         "0.9715856911316672",
         "0.7031996588964597"
        ],
        [
         "2025-08-03 00:00:00",
         "0.5223469565837878",
         "0.15828860365968989",
         "0.3565032792587717",
         "0.30040678292512346"
        ]
       ],
       "shape": {
        "columns": 4,
        "rows": 3
       }
      },
      "text/html": [
       "<div>\n",
       "<style scoped>\n",
       "    .dataframe tbody tr th:only-of-type {\n",
       "        vertical-align: middle;\n",
       "    }\n",
       "\n",
       "    .dataframe tbody tr th {\n",
       "        vertical-align: top;\n",
       "    }\n",
       "\n",
       "    .dataframe thead th {\n",
       "        text-align: right;\n",
       "    }\n",
       "</style>\n",
       "<table border=\"1\" class=\"dataframe\">\n",
       "  <thead>\n",
       "    <tr style=\"text-align: right;\">\n",
       "      <th></th>\n",
       "      <th>A</th>\n",
       "      <th>B</th>\n",
       "      <th>C</th>\n",
       "      <th>D</th>\n",
       "    </tr>\n",
       "  </thead>\n",
       "  <tbody>\n",
       "    <tr>\n",
       "      <th>2025-08-01</th>\n",
       "      <td>0.503825</td>\n",
       "      <td>0.530399</td>\n",
       "      <td>0.500151</td>\n",
       "      <td>0.865968</td>\n",
       "    </tr>\n",
       "    <tr>\n",
       "      <th>2025-08-02</th>\n",
       "      <td>0.709552</td>\n",
       "      <td>0.125351</td>\n",
       "      <td>0.971586</td>\n",
       "      <td>0.703200</td>\n",
       "    </tr>\n",
       "    <tr>\n",
       "      <th>2025-08-03</th>\n",
       "      <td>0.522347</td>\n",
       "      <td>0.158289</td>\n",
       "      <td>0.356503</td>\n",
       "      <td>0.300407</td>\n",
       "    </tr>\n",
       "  </tbody>\n",
       "</table>\n",
       "</div>"
      ],
      "text/plain": [
       "                   A         B         C         D\n",
       "2025-08-01  0.503825  0.530399  0.500151  0.865968\n",
       "2025-08-02  0.709552  0.125351  0.971586  0.703200\n",
       "2025-08-03  0.522347  0.158289  0.356503  0.300407"
      ]
     },
     "execution_count": 17,
     "metadata": {},
     "output_type": "execute_result"
    }
   ],
   "source": [
    "df.iloc[:3,:]"
   ]
  },
  {
   "cell_type": "code",
   "execution_count": 18,
   "id": "12889a9c",
   "metadata": {},
   "outputs": [
    {
     "data": {
      "application/vnd.microsoft.datawrangler.viewer.v0+json": {
       "columns": [
        {
         "name": "index",
         "rawType": "datetime64[ns]",
         "type": "datetime"
        },
        {
         "name": "A",
         "rawType": "float64",
         "type": "float"
        }
       ],
       "ref": "4b429ce8-eaa5-4af1-8146-28083e29e000",
       "rows": [
        [
         "2025-08-01 00:00:00",
         "0.5038249848113706"
        ],
        [
         "2025-08-02 00:00:00",
         "0.7095523583549147"
        ],
        [
         "2025-08-03 00:00:00",
         "0.5223469565837878"
        ],
        [
         "2025-08-04 00:00:00",
         "0.21978891843558657"
        ],
        [
         "2025-08-05 00:00:00",
         "0.7152027486507644"
        ],
        [
         "2025-08-06 00:00:00",
         "0.744881129488866"
        ],
        [
         "2025-08-07 00:00:00",
         "0.22665189542796327"
        ]
       ],
       "shape": {
        "columns": 1,
        "rows": 7
       }
      },
      "text/html": [
       "<div>\n",
       "<style scoped>\n",
       "    .dataframe tbody tr th:only-of-type {\n",
       "        vertical-align: middle;\n",
       "    }\n",
       "\n",
       "    .dataframe tbody tr th {\n",
       "        vertical-align: top;\n",
       "    }\n",
       "\n",
       "    .dataframe thead th {\n",
       "        text-align: right;\n",
       "    }\n",
       "</style>\n",
       "<table border=\"1\" class=\"dataframe\">\n",
       "  <thead>\n",
       "    <tr style=\"text-align: right;\">\n",
       "      <th></th>\n",
       "      <th>A</th>\n",
       "    </tr>\n",
       "  </thead>\n",
       "  <tbody>\n",
       "    <tr>\n",
       "      <th>2025-08-01</th>\n",
       "      <td>0.503825</td>\n",
       "    </tr>\n",
       "    <tr>\n",
       "      <th>2025-08-02</th>\n",
       "      <td>0.709552</td>\n",
       "    </tr>\n",
       "    <tr>\n",
       "      <th>2025-08-03</th>\n",
       "      <td>0.522347</td>\n",
       "    </tr>\n",
       "    <tr>\n",
       "      <th>2025-08-04</th>\n",
       "      <td>0.219789</td>\n",
       "    </tr>\n",
       "    <tr>\n",
       "      <th>2025-08-05</th>\n",
       "      <td>0.715203</td>\n",
       "    </tr>\n",
       "    <tr>\n",
       "      <th>2025-08-06</th>\n",
       "      <td>0.744881</td>\n",
       "    </tr>\n",
       "    <tr>\n",
       "      <th>2025-08-07</th>\n",
       "      <td>0.226652</td>\n",
       "    </tr>\n",
       "  </tbody>\n",
       "</table>\n",
       "</div>"
      ],
      "text/plain": [
       "                   A\n",
       "2025-08-01  0.503825\n",
       "2025-08-02  0.709552\n",
       "2025-08-03  0.522347\n",
       "2025-08-04  0.219789\n",
       "2025-08-05  0.715203\n",
       "2025-08-06  0.744881\n",
       "2025-08-07  0.226652"
      ]
     },
     "execution_count": 18,
     "metadata": {},
     "output_type": "execute_result"
    }
   ],
   "source": [
    "df.iloc[:,:1]"
   ]
  },
  {
   "cell_type": "code",
   "execution_count": 19,
   "id": "199ba9e0",
   "metadata": {},
   "outputs": [
    {
     "data": {
      "application/vnd.microsoft.datawrangler.viewer.v0+json": {
       "columns": [
        {
         "name": "index",
         "rawType": "datetime64[ns]",
         "type": "datetime"
        },
        {
         "name": "A",
         "rawType": "float64",
         "type": "float"
        },
        {
         "name": "B",
         "rawType": "float64",
         "type": "float"
        },
        {
         "name": "C",
         "rawType": "float64",
         "type": "float"
        }
       ],
       "ref": "6852b09b-50fa-4611-bd95-3513f3e6a1d4",
       "rows": [
        [
         "2025-08-01 00:00:00",
         "0.5038249848113706",
         "0.5303987040155753",
         "0.5001507140182756"
        ],
        [
         "2025-08-02 00:00:00",
         "0.7095523583549147",
         "0.12535148657966277",
         "0.9715856911316672"
        ],
        [
         "2025-08-03 00:00:00",
         "0.5223469565837878",
         "0.15828860365968989",
         "0.3565032792587717"
        ],
        [
         "2025-08-04 00:00:00",
         "0.21978891843558657",
         "0.41535488649457186",
         "0.6531345160175172"
        ],
        [
         "2025-08-05 00:00:00",
         "0.7152027486507644",
         "0.8603641432249106",
         "0.3545205101505755"
        ],
        [
         "2025-08-06 00:00:00",
         "0.744881129488866",
         "0.1847169290836771",
         "0.6743575263977176"
        ],
        [
         "2025-08-07 00:00:00",
         "0.22665189542796327",
         "0.27302729780205637",
         "0.020477361599996136"
        ]
       ],
       "shape": {
        "columns": 3,
        "rows": 7
       }
      },
      "text/html": [
       "<div>\n",
       "<style scoped>\n",
       "    .dataframe tbody tr th:only-of-type {\n",
       "        vertical-align: middle;\n",
       "    }\n",
       "\n",
       "    .dataframe tbody tr th {\n",
       "        vertical-align: top;\n",
       "    }\n",
       "\n",
       "    .dataframe thead th {\n",
       "        text-align: right;\n",
       "    }\n",
       "</style>\n",
       "<table border=\"1\" class=\"dataframe\">\n",
       "  <thead>\n",
       "    <tr style=\"text-align: right;\">\n",
       "      <th></th>\n",
       "      <th>A</th>\n",
       "      <th>B</th>\n",
       "      <th>C</th>\n",
       "    </tr>\n",
       "  </thead>\n",
       "  <tbody>\n",
       "    <tr>\n",
       "      <th>2025-08-01</th>\n",
       "      <td>0.503825</td>\n",
       "      <td>0.530399</td>\n",
       "      <td>0.500151</td>\n",
       "    </tr>\n",
       "    <tr>\n",
       "      <th>2025-08-02</th>\n",
       "      <td>0.709552</td>\n",
       "      <td>0.125351</td>\n",
       "      <td>0.971586</td>\n",
       "    </tr>\n",
       "    <tr>\n",
       "      <th>2025-08-03</th>\n",
       "      <td>0.522347</td>\n",
       "      <td>0.158289</td>\n",
       "      <td>0.356503</td>\n",
       "    </tr>\n",
       "    <tr>\n",
       "      <th>2025-08-04</th>\n",
       "      <td>0.219789</td>\n",
       "      <td>0.415355</td>\n",
       "      <td>0.653135</td>\n",
       "    </tr>\n",
       "    <tr>\n",
       "      <th>2025-08-05</th>\n",
       "      <td>0.715203</td>\n",
       "      <td>0.860364</td>\n",
       "      <td>0.354521</td>\n",
       "    </tr>\n",
       "    <tr>\n",
       "      <th>2025-08-06</th>\n",
       "      <td>0.744881</td>\n",
       "      <td>0.184717</td>\n",
       "      <td>0.674358</td>\n",
       "    </tr>\n",
       "    <tr>\n",
       "      <th>2025-08-07</th>\n",
       "      <td>0.226652</td>\n",
       "      <td>0.273027</td>\n",
       "      <td>0.020477</td>\n",
       "    </tr>\n",
       "  </tbody>\n",
       "</table>\n",
       "</div>"
      ],
      "text/plain": [
       "                   A         B         C\n",
       "2025-08-01  0.503825  0.530399  0.500151\n",
       "2025-08-02  0.709552  0.125351  0.971586\n",
       "2025-08-03  0.522347  0.158289  0.356503\n",
       "2025-08-04  0.219789  0.415355  0.653135\n",
       "2025-08-05  0.715203  0.860364  0.354521\n",
       "2025-08-06  0.744881  0.184717  0.674358\n",
       "2025-08-07  0.226652  0.273027  0.020477"
      ]
     },
     "execution_count": 19,
     "metadata": {},
     "output_type": "execute_result"
    }
   ],
   "source": [
    "df.iloc[:,:3]"
   ]
  },
  {
   "cell_type": "code",
   "execution_count": 20,
   "id": "a2fdf1fa",
   "metadata": {},
   "outputs": [],
   "source": [
    "# greater than "
   ]
  },
  {
   "cell_type": "code",
   "execution_count": 24,
   "id": "0559b091",
   "metadata": {},
   "outputs": [
    {
     "data": {
      "application/vnd.microsoft.datawrangler.viewer.v0+json": {
       "columns": [
        {
         "name": "index",
         "rawType": "datetime64[ns]",
         "type": "datetime"
        },
        {
         "name": "A",
         "rawType": "float64",
         "type": "float"
        },
        {
         "name": "B",
         "rawType": "float64",
         "type": "float"
        },
        {
         "name": "C",
         "rawType": "float64",
         "type": "float"
        },
        {
         "name": "D",
         "rawType": "float64",
         "type": "float"
        }
       ],
       "ref": "05fba52c-ca92-4b4b-bb0a-6a326f2668a6",
       "rows": [
        [
         "2025-08-01 00:00:00",
         "0.5038249848113706",
         "0.5303987040155753",
         "0.5001507140182756",
         "0.8659684421136596"
        ],
        [
         "2025-08-04 00:00:00",
         "0.21978891843558657",
         "0.41535488649457186",
         "0.6531345160175172",
         "0.5277896513228117"
        ],
        [
         "2025-08-05 00:00:00",
         "0.7152027486507644",
         "0.8603641432249106",
         "0.3545205101505755",
         "0.7861713596768987"
        ],
        [
         "2025-08-07 00:00:00",
         "0.22665189542796327",
         "0.27302729780205637",
         "0.020477361599996136",
         "0.20080564736434847"
        ]
       ],
       "shape": {
        "columns": 4,
        "rows": 4
       }
      },
      "text/html": [
       "<div>\n",
       "<style scoped>\n",
       "    .dataframe tbody tr th:only-of-type {\n",
       "        vertical-align: middle;\n",
       "    }\n",
       "\n",
       "    .dataframe tbody tr th {\n",
       "        vertical-align: top;\n",
       "    }\n",
       "\n",
       "    .dataframe thead th {\n",
       "        text-align: right;\n",
       "    }\n",
       "</style>\n",
       "<table border=\"1\" class=\"dataframe\">\n",
       "  <thead>\n",
       "    <tr style=\"text-align: right;\">\n",
       "      <th></th>\n",
       "      <th>A</th>\n",
       "      <th>B</th>\n",
       "      <th>C</th>\n",
       "      <th>D</th>\n",
       "    </tr>\n",
       "  </thead>\n",
       "  <tbody>\n",
       "    <tr>\n",
       "      <th>2025-08-01</th>\n",
       "      <td>0.503825</td>\n",
       "      <td>0.530399</td>\n",
       "      <td>0.500151</td>\n",
       "      <td>0.865968</td>\n",
       "    </tr>\n",
       "    <tr>\n",
       "      <th>2025-08-04</th>\n",
       "      <td>0.219789</td>\n",
       "      <td>0.415355</td>\n",
       "      <td>0.653135</td>\n",
       "      <td>0.527790</td>\n",
       "    </tr>\n",
       "    <tr>\n",
       "      <th>2025-08-05</th>\n",
       "      <td>0.715203</td>\n",
       "      <td>0.860364</td>\n",
       "      <td>0.354521</td>\n",
       "      <td>0.786171</td>\n",
       "    </tr>\n",
       "    <tr>\n",
       "      <th>2025-08-07</th>\n",
       "      <td>0.226652</td>\n",
       "      <td>0.273027</td>\n",
       "      <td>0.020477</td>\n",
       "      <td>0.200806</td>\n",
       "    </tr>\n",
       "  </tbody>\n",
       "</table>\n",
       "</div>"
      ],
      "text/plain": [
       "                   A         B         C         D\n",
       "2025-08-01  0.503825  0.530399  0.500151  0.865968\n",
       "2025-08-04  0.219789  0.415355  0.653135  0.527790\n",
       "2025-08-05  0.715203  0.860364  0.354521  0.786171\n",
       "2025-08-07  0.226652  0.273027  0.020477  0.200806"
      ]
     },
     "execution_count": 24,
     "metadata": {},
     "output_type": "execute_result"
    }
   ],
   "source": [
    "# column name , greater than\n",
    "\n",
    "df[df[\"B\"]>0.2]"
   ]
  },
  {
   "cell_type": "code",
   "execution_count": 25,
   "id": "131563a4",
   "metadata": {},
   "outputs": [
    {
     "data": {
      "application/vnd.microsoft.datawrangler.viewer.v0+json": {
       "columns": [
        {
         "name": "index",
         "rawType": "datetime64[ns]",
         "type": "datetime"
        },
        {
         "name": "A",
         "rawType": "float64",
         "type": "float"
        },
        {
         "name": "B",
         "rawType": "float64",
         "type": "float"
        },
        {
         "name": "C",
         "rawType": "float64",
         "type": "float"
        },
        {
         "name": "D",
         "rawType": "float64",
         "type": "float"
        }
       ],
       "ref": "a208b49c-454b-47b9-bd6d-d66a82d4ef8f",
       "rows": [
        [
         "2025-08-02 00:00:00",
         "0.7095523583549147",
         "0.12535148657966277",
         "0.9715856911316672",
         "0.7031996588964597"
        ],
        [
         "2025-08-03 00:00:00",
         "0.5223469565837878",
         "0.15828860365968989",
         "0.3565032792587717",
         "0.30040678292512346"
        ],
        [
         "2025-08-06 00:00:00",
         "0.744881129488866",
         "0.1847169290836771",
         "0.6743575263977176",
         "0.6769164321833627"
        ]
       ],
       "shape": {
        "columns": 4,
        "rows": 3
       }
      },
      "text/html": [
       "<div>\n",
       "<style scoped>\n",
       "    .dataframe tbody tr th:only-of-type {\n",
       "        vertical-align: middle;\n",
       "    }\n",
       "\n",
       "    .dataframe tbody tr th {\n",
       "        vertical-align: top;\n",
       "    }\n",
       "\n",
       "    .dataframe thead th {\n",
       "        text-align: right;\n",
       "    }\n",
       "</style>\n",
       "<table border=\"1\" class=\"dataframe\">\n",
       "  <thead>\n",
       "    <tr style=\"text-align: right;\">\n",
       "      <th></th>\n",
       "      <th>A</th>\n",
       "      <th>B</th>\n",
       "      <th>C</th>\n",
       "      <th>D</th>\n",
       "    </tr>\n",
       "  </thead>\n",
       "  <tbody>\n",
       "    <tr>\n",
       "      <th>2025-08-02</th>\n",
       "      <td>0.709552</td>\n",
       "      <td>0.125351</td>\n",
       "      <td>0.971586</td>\n",
       "      <td>0.703200</td>\n",
       "    </tr>\n",
       "    <tr>\n",
       "      <th>2025-08-03</th>\n",
       "      <td>0.522347</td>\n",
       "      <td>0.158289</td>\n",
       "      <td>0.356503</td>\n",
       "      <td>0.300407</td>\n",
       "    </tr>\n",
       "    <tr>\n",
       "      <th>2025-08-06</th>\n",
       "      <td>0.744881</td>\n",
       "      <td>0.184717</td>\n",
       "      <td>0.674358</td>\n",
       "      <td>0.676916</td>\n",
       "    </tr>\n",
       "  </tbody>\n",
       "</table>\n",
       "</div>"
      ],
      "text/plain": [
       "                   A         B         C         D\n",
       "2025-08-02  0.709552  0.125351  0.971586  0.703200\n",
       "2025-08-03  0.522347  0.158289  0.356503  0.300407\n",
       "2025-08-06  0.744881  0.184717  0.674358  0.676916"
      ]
     },
     "execution_count": 25,
     "metadata": {},
     "output_type": "execute_result"
    }
   ],
   "source": [
    "df[df[\"B\"]<0.2]"
   ]
  },
  {
   "cell_type": "code",
   "execution_count": 28,
   "id": "d5abd043",
   "metadata": {},
   "outputs": [
    {
     "data": {
      "application/vnd.microsoft.datawrangler.viewer.v0+json": {
       "columns": [
        {
         "name": "index",
         "rawType": "datetime64[ns]",
         "type": "datetime"
        },
        {
         "name": "A",
         "rawType": "float64",
         "type": "float"
        },
        {
         "name": "B",
         "rawType": "float64",
         "type": "float"
        },
        {
         "name": "C",
         "rawType": "float64",
         "type": "float"
        },
        {
         "name": "D",
         "rawType": "float64",
         "type": "float"
        }
       ],
       "ref": "2e7973a0-c530-4598-a71f-47e34500182e",
       "rows": [],
       "shape": {
        "columns": 4,
        "rows": 0
       }
      },
      "text/html": [
       "<div>\n",
       "<style scoped>\n",
       "    .dataframe tbody tr th:only-of-type {\n",
       "        vertical-align: middle;\n",
       "    }\n",
       "\n",
       "    .dataframe tbody tr th {\n",
       "        vertical-align: top;\n",
       "    }\n",
       "\n",
       "    .dataframe thead th {\n",
       "        text-align: right;\n",
       "    }\n",
       "</style>\n",
       "<table border=\"1\" class=\"dataframe\">\n",
       "  <thead>\n",
       "    <tr style=\"text-align: right;\">\n",
       "      <th></th>\n",
       "      <th>A</th>\n",
       "      <th>B</th>\n",
       "      <th>C</th>\n",
       "      <th>D</th>\n",
       "    </tr>\n",
       "  </thead>\n",
       "  <tbody>\n",
       "  </tbody>\n",
       "</table>\n",
       "</div>"
      ],
      "text/plain": [
       "Empty DataFrame\n",
       "Columns: [A, B, C, D]\n",
       "Index: []"
      ]
     },
     "execution_count": 28,
     "metadata": {},
     "output_type": "execute_result"
    }
   ],
   "source": [
    "df[df[\"B\"]==0.3]"
   ]
  },
  {
   "cell_type": "code",
   "execution_count": 29,
   "id": "3f9f2333",
   "metadata": {},
   "outputs": [
    {
     "data": {
      "application/vnd.microsoft.datawrangler.viewer.v0+json": {
       "columns": [
        {
         "name": "index",
         "rawType": "datetime64[ns]",
         "type": "datetime"
        },
        {
         "name": "A",
         "rawType": "float64",
         "type": "float"
        },
        {
         "name": "B",
         "rawType": "float64",
         "type": "float"
        },
        {
         "name": "C",
         "rawType": "float64",
         "type": "float"
        },
        {
         "name": "D",
         "rawType": "float64",
         "type": "float"
        }
       ],
       "ref": "cdb58d2b-898f-40e3-bcc7-cf667217bf91",
       "rows": [
        [
         "2025-08-01 00:00:00",
         "0.5038249848113706",
         "0.5303987040155753",
         "0.5001507140182756",
         "0.8659684421136596"
        ],
        [
         "2025-08-02 00:00:00",
         "0.7095523583549147",
         "0.12535148657966277",
         "0.9715856911316672",
         "0.7031996588964597"
        ],
        [
         "2025-08-03 00:00:00",
         "0.5223469565837878",
         "0.15828860365968989",
         "0.3565032792587717",
         "0.30040678292512346"
        ],
        [
         "2025-08-04 00:00:00",
         "0.21978891843558657",
         "0.41535488649457186",
         "0.6531345160175172",
         "0.5277896513228117"
        ],
        [
         "2025-08-05 00:00:00",
         "0.7152027486507644",
         "0.8603641432249106",
         "0.3545205101505755",
         "0.7861713596768987"
        ],
        [
         "2025-08-06 00:00:00",
         "0.744881129488866",
         "0.1847169290836771",
         "0.6743575263977176",
         "0.6769164321833627"
        ],
        [
         "2025-08-07 00:00:00",
         "0.22665189542796327",
         "0.27302729780205637",
         "0.020477361599996136",
         "0.20080564736434847"
        ]
       ],
       "shape": {
        "columns": 4,
        "rows": 7
       }
      },
      "text/html": [
       "<div>\n",
       "<style scoped>\n",
       "    .dataframe tbody tr th:only-of-type {\n",
       "        vertical-align: middle;\n",
       "    }\n",
       "\n",
       "    .dataframe tbody tr th {\n",
       "        vertical-align: top;\n",
       "    }\n",
       "\n",
       "    .dataframe thead th {\n",
       "        text-align: right;\n",
       "    }\n",
       "</style>\n",
       "<table border=\"1\" class=\"dataframe\">\n",
       "  <thead>\n",
       "    <tr style=\"text-align: right;\">\n",
       "      <th></th>\n",
       "      <th>A</th>\n",
       "      <th>B</th>\n",
       "      <th>C</th>\n",
       "      <th>D</th>\n",
       "    </tr>\n",
       "  </thead>\n",
       "  <tbody>\n",
       "    <tr>\n",
       "      <th>2025-08-01</th>\n",
       "      <td>0.503825</td>\n",
       "      <td>0.530399</td>\n",
       "      <td>0.500151</td>\n",
       "      <td>0.865968</td>\n",
       "    </tr>\n",
       "    <tr>\n",
       "      <th>2025-08-02</th>\n",
       "      <td>0.709552</td>\n",
       "      <td>0.125351</td>\n",
       "      <td>0.971586</td>\n",
       "      <td>0.703200</td>\n",
       "    </tr>\n",
       "    <tr>\n",
       "      <th>2025-08-03</th>\n",
       "      <td>0.522347</td>\n",
       "      <td>0.158289</td>\n",
       "      <td>0.356503</td>\n",
       "      <td>0.300407</td>\n",
       "    </tr>\n",
       "    <tr>\n",
       "      <th>2025-08-04</th>\n",
       "      <td>0.219789</td>\n",
       "      <td>0.415355</td>\n",
       "      <td>0.653135</td>\n",
       "      <td>0.527790</td>\n",
       "    </tr>\n",
       "    <tr>\n",
       "      <th>2025-08-05</th>\n",
       "      <td>0.715203</td>\n",
       "      <td>0.860364</td>\n",
       "      <td>0.354521</td>\n",
       "      <td>0.786171</td>\n",
       "    </tr>\n",
       "    <tr>\n",
       "      <th>2025-08-06</th>\n",
       "      <td>0.744881</td>\n",
       "      <td>0.184717</td>\n",
       "      <td>0.674358</td>\n",
       "      <td>0.676916</td>\n",
       "    </tr>\n",
       "    <tr>\n",
       "      <th>2025-08-07</th>\n",
       "      <td>0.226652</td>\n",
       "      <td>0.273027</td>\n",
       "      <td>0.020477</td>\n",
       "      <td>0.200806</td>\n",
       "    </tr>\n",
       "  </tbody>\n",
       "</table>\n",
       "</div>"
      ],
      "text/plain": [
       "                   A         B         C         D\n",
       "2025-08-01  0.503825  0.530399  0.500151  0.865968\n",
       "2025-08-02  0.709552  0.125351  0.971586  0.703200\n",
       "2025-08-03  0.522347  0.158289  0.356503  0.300407\n",
       "2025-08-04  0.219789  0.415355  0.653135  0.527790\n",
       "2025-08-05  0.715203  0.860364  0.354521  0.786171\n",
       "2025-08-06  0.744881  0.184717  0.674358  0.676916\n",
       "2025-08-07  0.226652  0.273027  0.020477  0.200806"
      ]
     },
     "execution_count": 29,
     "metadata": {},
     "output_type": "execute_result"
    }
   ],
   "source": [
    "df"
   ]
  },
  {
   "cell_type": "code",
   "execution_count": 30,
   "id": "0b887e39",
   "metadata": {},
   "outputs": [],
   "source": [
    "df4 = df.copy()"
   ]
  },
  {
   "cell_type": "code",
   "execution_count": 33,
   "id": "771a7280",
   "metadata": {},
   "outputs": [],
   "source": [
    "#add one more column\n",
    "df4[\"F\"] = [\"one\",\"two\",\"three\",\"four\",\"five\",\"six\",\"seven\"]"
   ]
  },
  {
   "cell_type": "code",
   "execution_count": 32,
   "id": "49f8c357",
   "metadata": {},
   "outputs": [
    {
     "data": {
      "application/vnd.microsoft.datawrangler.viewer.v0+json": {
       "columns": [
        {
         "name": "index",
         "rawType": "datetime64[ns]",
         "type": "datetime"
        },
        {
         "name": "A",
         "rawType": "float64",
         "type": "float"
        },
        {
         "name": "B",
         "rawType": "float64",
         "type": "float"
        },
        {
         "name": "C",
         "rawType": "float64",
         "type": "float"
        },
        {
         "name": "D",
         "rawType": "float64",
         "type": "float"
        },
        {
         "name": "F",
         "rawType": "object",
         "type": "string"
        }
       ],
       "ref": "a340a81e-69e7-4cf2-9292-23c9f03e503f",
       "rows": [
        [
         "2025-08-01 00:00:00",
         "0.5038249848113706",
         "0.5303987040155753",
         "0.5001507140182756",
         "0.8659684421136596",
         "one"
        ],
        [
         "2025-08-02 00:00:00",
         "0.7095523583549147",
         "0.12535148657966277",
         "0.9715856911316672",
         "0.7031996588964597",
         "two"
        ],
        [
         "2025-08-03 00:00:00",
         "0.5223469565837878",
         "0.15828860365968989",
         "0.3565032792587717",
         "0.30040678292512346",
         "three"
        ],
        [
         "2025-08-04 00:00:00",
         "0.21978891843558657",
         "0.41535488649457186",
         "0.6531345160175172",
         "0.5277896513228117",
         "four"
        ],
        [
         "2025-08-05 00:00:00",
         "0.7152027486507644",
         "0.8603641432249106",
         "0.3545205101505755",
         "0.7861713596768987",
         "five"
        ],
        [
         "2025-08-06 00:00:00",
         "0.744881129488866",
         "0.1847169290836771",
         "0.6743575263977176",
         "0.6769164321833627",
         "six"
        ],
        [
         "2025-08-07 00:00:00",
         "0.22665189542796327",
         "0.27302729780205637",
         "0.020477361599996136",
         "0.20080564736434847",
         "seven"
        ]
       ],
       "shape": {
        "columns": 5,
        "rows": 7
       }
      },
      "text/html": [
       "<div>\n",
       "<style scoped>\n",
       "    .dataframe tbody tr th:only-of-type {\n",
       "        vertical-align: middle;\n",
       "    }\n",
       "\n",
       "    .dataframe tbody tr th {\n",
       "        vertical-align: top;\n",
       "    }\n",
       "\n",
       "    .dataframe thead th {\n",
       "        text-align: right;\n",
       "    }\n",
       "</style>\n",
       "<table border=\"1\" class=\"dataframe\">\n",
       "  <thead>\n",
       "    <tr style=\"text-align: right;\">\n",
       "      <th></th>\n",
       "      <th>A</th>\n",
       "      <th>B</th>\n",
       "      <th>C</th>\n",
       "      <th>D</th>\n",
       "      <th>F</th>\n",
       "    </tr>\n",
       "  </thead>\n",
       "  <tbody>\n",
       "    <tr>\n",
       "      <th>2025-08-01</th>\n",
       "      <td>0.503825</td>\n",
       "      <td>0.530399</td>\n",
       "      <td>0.500151</td>\n",
       "      <td>0.865968</td>\n",
       "      <td>one</td>\n",
       "    </tr>\n",
       "    <tr>\n",
       "      <th>2025-08-02</th>\n",
       "      <td>0.709552</td>\n",
       "      <td>0.125351</td>\n",
       "      <td>0.971586</td>\n",
       "      <td>0.703200</td>\n",
       "      <td>two</td>\n",
       "    </tr>\n",
       "    <tr>\n",
       "      <th>2025-08-03</th>\n",
       "      <td>0.522347</td>\n",
       "      <td>0.158289</td>\n",
       "      <td>0.356503</td>\n",
       "      <td>0.300407</td>\n",
       "      <td>three</td>\n",
       "    </tr>\n",
       "    <tr>\n",
       "      <th>2025-08-04</th>\n",
       "      <td>0.219789</td>\n",
       "      <td>0.415355</td>\n",
       "      <td>0.653135</td>\n",
       "      <td>0.527790</td>\n",
       "      <td>four</td>\n",
       "    </tr>\n",
       "    <tr>\n",
       "      <th>2025-08-05</th>\n",
       "      <td>0.715203</td>\n",
       "      <td>0.860364</td>\n",
       "      <td>0.354521</td>\n",
       "      <td>0.786171</td>\n",
       "      <td>five</td>\n",
       "    </tr>\n",
       "    <tr>\n",
       "      <th>2025-08-06</th>\n",
       "      <td>0.744881</td>\n",
       "      <td>0.184717</td>\n",
       "      <td>0.674358</td>\n",
       "      <td>0.676916</td>\n",
       "      <td>six</td>\n",
       "    </tr>\n",
       "    <tr>\n",
       "      <th>2025-08-07</th>\n",
       "      <td>0.226652</td>\n",
       "      <td>0.273027</td>\n",
       "      <td>0.020477</td>\n",
       "      <td>0.200806</td>\n",
       "      <td>seven</td>\n",
       "    </tr>\n",
       "  </tbody>\n",
       "</table>\n",
       "</div>"
      ],
      "text/plain": [
       "                   A         B         C         D      F\n",
       "2025-08-01  0.503825  0.530399  0.500151  0.865968    one\n",
       "2025-08-02  0.709552  0.125351  0.971586  0.703200    two\n",
       "2025-08-03  0.522347  0.158289  0.356503  0.300407  three\n",
       "2025-08-04  0.219789  0.415355  0.653135  0.527790   four\n",
       "2025-08-05  0.715203  0.860364  0.354521  0.786171   five\n",
       "2025-08-06  0.744881  0.184717  0.674358  0.676916    six\n",
       "2025-08-07  0.226652  0.273027  0.020477  0.200806  seven"
      ]
     },
     "execution_count": 32,
     "metadata": {},
     "output_type": "execute_result"
    }
   ],
   "source": [
    "df4"
   ]
  },
  {
   "cell_type": "code",
   "execution_count": 34,
   "id": "bbbc55ac",
   "metadata": {},
   "outputs": [],
   "source": [
    "df5 = df[\"A\"]+df[\"B\"]+df[\"C\"]+df[\"D\"]"
   ]
  },
  {
   "cell_type": "code",
   "execution_count": 35,
   "id": "02844167",
   "metadata": {},
   "outputs": [
    {
     "data": {
      "application/vnd.microsoft.datawrangler.viewer.v0+json": {
       "columns": [
        {
         "name": "index",
         "rawType": "datetime64[ns]",
         "type": "datetime"
        },
        {
         "name": "0",
         "rawType": "float64",
         "type": "float"
        }
       ],
       "ref": "f9f4210c-0f85-4297-abbd-c258c7520ec4",
       "rows": [
        [
         "2025-08-01 00:00:00",
         "2.4003428449588813"
        ],
        [
         "2025-08-02 00:00:00",
         "2.5096891949627045"
        ],
        [
         "2025-08-03 00:00:00",
         "1.3375456224273727"
        ],
        [
         "2025-08-04 00:00:00",
         "1.8160679722704873"
        ],
        [
         "2025-08-05 00:00:00",
         "2.7162587617031493"
        ],
        [
         "2025-08-06 00:00:00",
         "2.2808720171536234"
        ],
        [
         "2025-08-07 00:00:00",
         "0.7209622021943642"
        ]
       ],
       "shape": {
        "columns": 1,
        "rows": 7
       }
      },
      "text/plain": [
       "2025-08-01    2.400343\n",
       "2025-08-02    2.509689\n",
       "2025-08-03    1.337546\n",
       "2025-08-04    1.816068\n",
       "2025-08-05    2.716259\n",
       "2025-08-06    2.280872\n",
       "2025-08-07    0.720962\n",
       "Freq: D, dtype: float64"
      ]
     },
     "execution_count": 35,
     "metadata": {},
     "output_type": "execute_result"
    }
   ],
   "source": [
    "df5"
   ]
  },
  {
   "cell_type": "code",
   "execution_count": 37,
   "id": "e43dfa4f",
   "metadata": {},
   "outputs": [],
   "source": [
    "df4[\"sum\"] = df5"
   ]
  },
  {
   "cell_type": "code",
   "execution_count": 38,
   "id": "6ab7ab95",
   "metadata": {},
   "outputs": [
    {
     "data": {
      "application/vnd.microsoft.datawrangler.viewer.v0+json": {
       "columns": [
        {
         "name": "index",
         "rawType": "datetime64[ns]",
         "type": "datetime"
        },
        {
         "name": "A",
         "rawType": "float64",
         "type": "float"
        },
        {
         "name": "B",
         "rawType": "float64",
         "type": "float"
        },
        {
         "name": "C",
         "rawType": "float64",
         "type": "float"
        },
        {
         "name": "D",
         "rawType": "float64",
         "type": "float"
        },
        {
         "name": "F",
         "rawType": "object",
         "type": "string"
        },
        {
         "name": "sum",
         "rawType": "float64",
         "type": "float"
        }
       ],
       "ref": "66b9dc57-62bf-44f8-89eb-657429a4d286",
       "rows": [
        [
         "2025-08-01 00:00:00",
         "0.5038249848113706",
         "0.5303987040155753",
         "0.5001507140182756",
         "0.8659684421136596",
         "one",
         "2.4003428449588813"
        ],
        [
         "2025-08-02 00:00:00",
         "0.7095523583549147",
         "0.12535148657966277",
         "0.9715856911316672",
         "0.7031996588964597",
         "two",
         "2.5096891949627045"
        ],
        [
         "2025-08-03 00:00:00",
         "0.5223469565837878",
         "0.15828860365968989",
         "0.3565032792587717",
         "0.30040678292512346",
         "three",
         "1.3375456224273727"
        ],
        [
         "2025-08-04 00:00:00",
         "0.21978891843558657",
         "0.41535488649457186",
         "0.6531345160175172",
         "0.5277896513228117",
         "four",
         "1.8160679722704873"
        ],
        [
         "2025-08-05 00:00:00",
         "0.7152027486507644",
         "0.8603641432249106",
         "0.3545205101505755",
         "0.7861713596768987",
         "five",
         "2.7162587617031493"
        ],
        [
         "2025-08-06 00:00:00",
         "0.744881129488866",
         "0.1847169290836771",
         "0.6743575263977176",
         "0.6769164321833627",
         "six",
         "2.2808720171536234"
        ],
        [
         "2025-08-07 00:00:00",
         "0.22665189542796327",
         "0.27302729780205637",
         "0.020477361599996136",
         "0.20080564736434847",
         "seven",
         "0.7209622021943642"
        ]
       ],
       "shape": {
        "columns": 6,
        "rows": 7
       }
      },
      "text/html": [
       "<div>\n",
       "<style scoped>\n",
       "    .dataframe tbody tr th:only-of-type {\n",
       "        vertical-align: middle;\n",
       "    }\n",
       "\n",
       "    .dataframe tbody tr th {\n",
       "        vertical-align: top;\n",
       "    }\n",
       "\n",
       "    .dataframe thead th {\n",
       "        text-align: right;\n",
       "    }\n",
       "</style>\n",
       "<table border=\"1\" class=\"dataframe\">\n",
       "  <thead>\n",
       "    <tr style=\"text-align: right;\">\n",
       "      <th></th>\n",
       "      <th>A</th>\n",
       "      <th>B</th>\n",
       "      <th>C</th>\n",
       "      <th>D</th>\n",
       "      <th>F</th>\n",
       "      <th>sum</th>\n",
       "    </tr>\n",
       "  </thead>\n",
       "  <tbody>\n",
       "    <tr>\n",
       "      <th>2025-08-01</th>\n",
       "      <td>0.503825</td>\n",
       "      <td>0.530399</td>\n",
       "      <td>0.500151</td>\n",
       "      <td>0.865968</td>\n",
       "      <td>one</td>\n",
       "      <td>2.400343</td>\n",
       "    </tr>\n",
       "    <tr>\n",
       "      <th>2025-08-02</th>\n",
       "      <td>0.709552</td>\n",
       "      <td>0.125351</td>\n",
       "      <td>0.971586</td>\n",
       "      <td>0.703200</td>\n",
       "      <td>two</td>\n",
       "      <td>2.509689</td>\n",
       "    </tr>\n",
       "    <tr>\n",
       "      <th>2025-08-03</th>\n",
       "      <td>0.522347</td>\n",
       "      <td>0.158289</td>\n",
       "      <td>0.356503</td>\n",
       "      <td>0.300407</td>\n",
       "      <td>three</td>\n",
       "      <td>1.337546</td>\n",
       "    </tr>\n",
       "    <tr>\n",
       "      <th>2025-08-04</th>\n",
       "      <td>0.219789</td>\n",
       "      <td>0.415355</td>\n",
       "      <td>0.653135</td>\n",
       "      <td>0.527790</td>\n",
       "      <td>four</td>\n",
       "      <td>1.816068</td>\n",
       "    </tr>\n",
       "    <tr>\n",
       "      <th>2025-08-05</th>\n",
       "      <td>0.715203</td>\n",
       "      <td>0.860364</td>\n",
       "      <td>0.354521</td>\n",
       "      <td>0.786171</td>\n",
       "      <td>five</td>\n",
       "      <td>2.716259</td>\n",
       "    </tr>\n",
       "    <tr>\n",
       "      <th>2025-08-06</th>\n",
       "      <td>0.744881</td>\n",
       "      <td>0.184717</td>\n",
       "      <td>0.674358</td>\n",
       "      <td>0.676916</td>\n",
       "      <td>six</td>\n",
       "      <td>2.280872</td>\n",
       "    </tr>\n",
       "    <tr>\n",
       "      <th>2025-08-07</th>\n",
       "      <td>0.226652</td>\n",
       "      <td>0.273027</td>\n",
       "      <td>0.020477</td>\n",
       "      <td>0.200806</td>\n",
       "      <td>seven</td>\n",
       "      <td>0.720962</td>\n",
       "    </tr>\n",
       "  </tbody>\n",
       "</table>\n",
       "</div>"
      ],
      "text/plain": [
       "                   A         B         C         D      F       sum\n",
       "2025-08-01  0.503825  0.530399  0.500151  0.865968    one  2.400343\n",
       "2025-08-02  0.709552  0.125351  0.971586  0.703200    two  2.509689\n",
       "2025-08-03  0.522347  0.158289  0.356503  0.300407  three  1.337546\n",
       "2025-08-04  0.219789  0.415355  0.653135  0.527790   four  1.816068\n",
       "2025-08-05  0.715203  0.860364  0.354521  0.786171   five  2.716259\n",
       "2025-08-06  0.744881  0.184717  0.674358  0.676916    six  2.280872\n",
       "2025-08-07  0.226652  0.273027  0.020477  0.200806  seven  0.720962"
      ]
     },
     "execution_count": 38,
     "metadata": {},
     "output_type": "execute_result"
    }
   ],
   "source": [
    "df4"
   ]
  },
  {
   "cell_type": "code",
   "execution_count": 39,
   "id": "6cbef49e",
   "metadata": {},
   "outputs": [],
   "source": [
    "df4[\"average\"] = df5/4"
   ]
  },
  {
   "cell_type": "code",
   "execution_count": 40,
   "id": "bf0cb491",
   "metadata": {},
   "outputs": [
    {
     "data": {
      "application/vnd.microsoft.datawrangler.viewer.v0+json": {
       "columns": [
        {
         "name": "index",
         "rawType": "datetime64[ns]",
         "type": "datetime"
        },
        {
         "name": "A",
         "rawType": "float64",
         "type": "float"
        },
        {
         "name": "B",
         "rawType": "float64",
         "type": "float"
        },
        {
         "name": "C",
         "rawType": "float64",
         "type": "float"
        },
        {
         "name": "D",
         "rawType": "float64",
         "type": "float"
        },
        {
         "name": "F",
         "rawType": "object",
         "type": "string"
        },
        {
         "name": "sum",
         "rawType": "float64",
         "type": "float"
        },
        {
         "name": "average",
         "rawType": "float64",
         "type": "float"
        }
       ],
       "ref": "22933583-e4be-4c18-9ef1-cbf6b3e9e475",
       "rows": [
        [
         "2025-08-01 00:00:00",
         "0.5038249848113706",
         "0.5303987040155753",
         "0.5001507140182756",
         "0.8659684421136596",
         "one",
         "2.4003428449588813",
         "0.6000857112397203"
        ],
        [
         "2025-08-02 00:00:00",
         "0.7095523583549147",
         "0.12535148657966277",
         "0.9715856911316672",
         "0.7031996588964597",
         "two",
         "2.5096891949627045",
         "0.6274222987406761"
        ],
        [
         "2025-08-03 00:00:00",
         "0.5223469565837878",
         "0.15828860365968989",
         "0.3565032792587717",
         "0.30040678292512346",
         "three",
         "1.3375456224273727",
         "0.3343864056068432"
        ],
        [
         "2025-08-04 00:00:00",
         "0.21978891843558657",
         "0.41535488649457186",
         "0.6531345160175172",
         "0.5277896513228117",
         "four",
         "1.8160679722704873",
         "0.45401699306762183"
        ],
        [
         "2025-08-05 00:00:00",
         "0.7152027486507644",
         "0.8603641432249106",
         "0.3545205101505755",
         "0.7861713596768987",
         "five",
         "2.7162587617031493",
         "0.6790646904257873"
        ],
        [
         "2025-08-06 00:00:00",
         "0.744881129488866",
         "0.1847169290836771",
         "0.6743575263977176",
         "0.6769164321833627",
         "six",
         "2.2808720171536234",
         "0.5702180042884059"
        ],
        [
         "2025-08-07 00:00:00",
         "0.22665189542796327",
         "0.27302729780205637",
         "0.020477361599996136",
         "0.20080564736434847",
         "seven",
         "0.7209622021943642",
         "0.18024055054859106"
        ]
       ],
       "shape": {
        "columns": 7,
        "rows": 7
       }
      },
      "text/html": [
       "<div>\n",
       "<style scoped>\n",
       "    .dataframe tbody tr th:only-of-type {\n",
       "        vertical-align: middle;\n",
       "    }\n",
       "\n",
       "    .dataframe tbody tr th {\n",
       "        vertical-align: top;\n",
       "    }\n",
       "\n",
       "    .dataframe thead th {\n",
       "        text-align: right;\n",
       "    }\n",
       "</style>\n",
       "<table border=\"1\" class=\"dataframe\">\n",
       "  <thead>\n",
       "    <tr style=\"text-align: right;\">\n",
       "      <th></th>\n",
       "      <th>A</th>\n",
       "      <th>B</th>\n",
       "      <th>C</th>\n",
       "      <th>D</th>\n",
       "      <th>F</th>\n",
       "      <th>sum</th>\n",
       "      <th>average</th>\n",
       "    </tr>\n",
       "  </thead>\n",
       "  <tbody>\n",
       "    <tr>\n",
       "      <th>2025-08-01</th>\n",
       "      <td>0.503825</td>\n",
       "      <td>0.530399</td>\n",
       "      <td>0.500151</td>\n",
       "      <td>0.865968</td>\n",
       "      <td>one</td>\n",
       "      <td>2.400343</td>\n",
       "      <td>0.600086</td>\n",
       "    </tr>\n",
       "    <tr>\n",
       "      <th>2025-08-02</th>\n",
       "      <td>0.709552</td>\n",
       "      <td>0.125351</td>\n",
       "      <td>0.971586</td>\n",
       "      <td>0.703200</td>\n",
       "      <td>two</td>\n",
       "      <td>2.509689</td>\n",
       "      <td>0.627422</td>\n",
       "    </tr>\n",
       "    <tr>\n",
       "      <th>2025-08-03</th>\n",
       "      <td>0.522347</td>\n",
       "      <td>0.158289</td>\n",
       "      <td>0.356503</td>\n",
       "      <td>0.300407</td>\n",
       "      <td>three</td>\n",
       "      <td>1.337546</td>\n",
       "      <td>0.334386</td>\n",
       "    </tr>\n",
       "    <tr>\n",
       "      <th>2025-08-04</th>\n",
       "      <td>0.219789</td>\n",
       "      <td>0.415355</td>\n",
       "      <td>0.653135</td>\n",
       "      <td>0.527790</td>\n",
       "      <td>four</td>\n",
       "      <td>1.816068</td>\n",
       "      <td>0.454017</td>\n",
       "    </tr>\n",
       "    <tr>\n",
       "      <th>2025-08-05</th>\n",
       "      <td>0.715203</td>\n",
       "      <td>0.860364</td>\n",
       "      <td>0.354521</td>\n",
       "      <td>0.786171</td>\n",
       "      <td>five</td>\n",
       "      <td>2.716259</td>\n",
       "      <td>0.679065</td>\n",
       "    </tr>\n",
       "    <tr>\n",
       "      <th>2025-08-06</th>\n",
       "      <td>0.744881</td>\n",
       "      <td>0.184717</td>\n",
       "      <td>0.674358</td>\n",
       "      <td>0.676916</td>\n",
       "      <td>six</td>\n",
       "      <td>2.280872</td>\n",
       "      <td>0.570218</td>\n",
       "    </tr>\n",
       "    <tr>\n",
       "      <th>2025-08-07</th>\n",
       "      <td>0.226652</td>\n",
       "      <td>0.273027</td>\n",
       "      <td>0.020477</td>\n",
       "      <td>0.200806</td>\n",
       "      <td>seven</td>\n",
       "      <td>0.720962</td>\n",
       "      <td>0.180241</td>\n",
       "    </tr>\n",
       "  </tbody>\n",
       "</table>\n",
       "</div>"
      ],
      "text/plain": [
       "                   A         B         C         D      F       sum   average\n",
       "2025-08-01  0.503825  0.530399  0.500151  0.865968    one  2.400343  0.600086\n",
       "2025-08-02  0.709552  0.125351  0.971586  0.703200    two  2.509689  0.627422\n",
       "2025-08-03  0.522347  0.158289  0.356503  0.300407  three  1.337546  0.334386\n",
       "2025-08-04  0.219789  0.415355  0.653135  0.527790   four  1.816068  0.454017\n",
       "2025-08-05  0.715203  0.860364  0.354521  0.786171   five  2.716259  0.679065\n",
       "2025-08-06  0.744881  0.184717  0.674358  0.676916    six  2.280872  0.570218\n",
       "2025-08-07  0.226652  0.273027  0.020477  0.200806  seven  0.720962  0.180241"
      ]
     },
     "execution_count": 40,
     "metadata": {},
     "output_type": "execute_result"
    }
   ],
   "source": [
    "df4"
   ]
  },
  {
   "cell_type": "code",
   "execution_count": 42,
   "id": "5c842e35",
   "metadata": {},
   "outputs": [],
   "source": [
    "df6 = df.iloc[:,1:3]"
   ]
  },
  {
   "cell_type": "code",
   "execution_count": 43,
   "id": "4dcae09b",
   "metadata": {},
   "outputs": [
    {
     "data": {
      "application/vnd.microsoft.datawrangler.viewer.v0+json": {
       "columns": [
        {
         "name": "index",
         "rawType": "datetime64[ns]",
         "type": "datetime"
        },
        {
         "name": "B",
         "rawType": "float64",
         "type": "float"
        },
        {
         "name": "C",
         "rawType": "float64",
         "type": "float"
        }
       ],
       "ref": "f26c95f0-d7f8-4566-9927-f3ad945d1e9a",
       "rows": [
        [
         "2025-08-01 00:00:00",
         "0.5303987040155753",
         "0.5001507140182756"
        ],
        [
         "2025-08-02 00:00:00",
         "0.12535148657966277",
         "0.9715856911316672"
        ],
        [
         "2025-08-03 00:00:00",
         "0.15828860365968989",
         "0.3565032792587717"
        ],
        [
         "2025-08-04 00:00:00",
         "0.41535488649457186",
         "0.6531345160175172"
        ],
        [
         "2025-08-05 00:00:00",
         "0.8603641432249106",
         "0.3545205101505755"
        ],
        [
         "2025-08-06 00:00:00",
         "0.1847169290836771",
         "0.6743575263977176"
        ],
        [
         "2025-08-07 00:00:00",
         "0.27302729780205637",
         "0.020477361599996136"
        ]
       ],
       "shape": {
        "columns": 2,
        "rows": 7
       }
      },
      "text/html": [
       "<div>\n",
       "<style scoped>\n",
       "    .dataframe tbody tr th:only-of-type {\n",
       "        vertical-align: middle;\n",
       "    }\n",
       "\n",
       "    .dataframe tbody tr th {\n",
       "        vertical-align: top;\n",
       "    }\n",
       "\n",
       "    .dataframe thead th {\n",
       "        text-align: right;\n",
       "    }\n",
       "</style>\n",
       "<table border=\"1\" class=\"dataframe\">\n",
       "  <thead>\n",
       "    <tr style=\"text-align: right;\">\n",
       "      <th></th>\n",
       "      <th>B</th>\n",
       "      <th>C</th>\n",
       "    </tr>\n",
       "  </thead>\n",
       "  <tbody>\n",
       "    <tr>\n",
       "      <th>2025-08-01</th>\n",
       "      <td>0.530399</td>\n",
       "      <td>0.500151</td>\n",
       "    </tr>\n",
       "    <tr>\n",
       "      <th>2025-08-02</th>\n",
       "      <td>0.125351</td>\n",
       "      <td>0.971586</td>\n",
       "    </tr>\n",
       "    <tr>\n",
       "      <th>2025-08-03</th>\n",
       "      <td>0.158289</td>\n",
       "      <td>0.356503</td>\n",
       "    </tr>\n",
       "    <tr>\n",
       "      <th>2025-08-04</th>\n",
       "      <td>0.415355</td>\n",
       "      <td>0.653135</td>\n",
       "    </tr>\n",
       "    <tr>\n",
       "      <th>2025-08-05</th>\n",
       "      <td>0.860364</td>\n",
       "      <td>0.354521</td>\n",
       "    </tr>\n",
       "    <tr>\n",
       "      <th>2025-08-06</th>\n",
       "      <td>0.184717</td>\n",
       "      <td>0.674358</td>\n",
       "    </tr>\n",
       "    <tr>\n",
       "      <th>2025-08-07</th>\n",
       "      <td>0.273027</td>\n",
       "      <td>0.020477</td>\n",
       "    </tr>\n",
       "  </tbody>\n",
       "</table>\n",
       "</div>"
      ],
      "text/plain": [
       "                   B         C\n",
       "2025-08-01  0.530399  0.500151\n",
       "2025-08-02  0.125351  0.971586\n",
       "2025-08-03  0.158289  0.356503\n",
       "2025-08-04  0.415355  0.653135\n",
       "2025-08-05  0.860364  0.354521\n",
       "2025-08-06  0.184717  0.674358\n",
       "2025-08-07  0.273027  0.020477"
      ]
     },
     "execution_count": 43,
     "metadata": {},
     "output_type": "execute_result"
    }
   ],
   "source": [
    "df6"
   ]
  },
  {
   "cell_type": "code",
   "execution_count": null,
   "id": "35f42801",
   "metadata": {},
   "outputs": [],
   "source": []
  }
 ],
 "metadata": {
  "kernelspec": {
   "display_name": "data_analysis",
   "language": "python",
   "name": "python3"
  },
  "language_info": {
   "codemirror_mode": {
    "name": "ipython",
    "version": 3
   },
   "file_extension": ".py",
   "mimetype": "text/x-python",
   "name": "python",
   "nbconvert_exporter": "python",
   "pygments_lexer": "ipython3",
   "version": "3.10.18"
  }
 },
 "nbformat": 4,
 "nbformat_minor": 5
}
