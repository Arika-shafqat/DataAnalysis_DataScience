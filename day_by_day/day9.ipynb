{
 "cells": [
  {
   "cell_type": "code",
   "execution_count": 1,
   "id": "e34a3ce9-26fc-4d4a-9d95-0fe4ff63df09",
   "metadata": {},
   "outputs": [],
   "source": [
    "import numpy as np"
   ]
  },
  {
   "cell_type": "markdown",
   "id": "7c83be64-fd89-4c35-b03b-fb676aa64f02",
   "metadata": {},
   "source": [
    "### Reshape"
   ]
  },
  {
   "cell_type": "code",
   "execution_count": 7,
   "id": "3d817968-4004-4ce0-995c-7878d299fce1",
   "metadata": {},
   "outputs": [
    {
     "name": "stdout",
     "output_type": "stream",
     "text": [
      "[[ 1  2  3]\n",
      " [ 4  7  6]\n",
      " [ 7  8  9]\n",
      " [ 0 11 12]]\n"
     ]
    }
   ],
   "source": [
    "# Reshape From 1-D to 2-D\n",
    "arr = np.array([1, 2, 3, 4, 7, 6, 7, 8, 9, 0, 11, 12])\n",
    "new_arr1 = arr.reshape(4, 3)\n",
    "print(new_arr1)"
   ]
  },
  {
   "cell_type": "code",
   "execution_count": 8,
   "id": "f2f9ebea-60e2-4f9b-b4c1-5a3f50ca7a13",
   "metadata": {},
   "outputs": [
    {
     "name": "stdout",
     "output_type": "stream",
     "text": [
      "[[[ 1  2]\n",
      "  [ 3  4]\n",
      "  [ 7  6]]\n",
      "\n",
      " [[ 7  8]\n",
      "  [ 9  0]\n",
      "  [11 12]]]\n"
     ]
    }
   ],
   "source": [
    "#Reshape From 1-D to 3-D\n",
    "new_arr2 = arr.reshape(2, 3, 2)\n",
    "print(new_arr2)"
   ]
  },
  {
   "cell_type": "code",
   "execution_count": 10,
   "id": "1345df39-3ff6-499f-8c89-2bdef5811aab",
   "metadata": {},
   "outputs": [
    {
     "name": "stdout",
     "output_type": "stream",
     "text": [
      "[[[1 2]\n",
      "  [3 4]]\n",
      "\n",
      " [[5 6]\n",
      "  [7 8]]]\n"
     ]
    }
   ],
   "source": [
    "arr = np.array([1, 2, 3, 4, 5, 6, 7, 8])\n",
    "newarr = arr.reshape(2, 2, -1)\n",
    "print(newarr)"
   ]
  },
  {
   "cell_type": "code",
   "execution_count": 12,
   "id": "a2c89def-30d9-4005-a444-3b8fc2b20257",
   "metadata": {},
   "outputs": [
    {
     "name": "stdout",
     "output_type": "stream",
     "text": [
      "[[[ 1  2]\n",
      "  [ 3  4]\n",
      "  [ 7  6]]\n",
      "\n",
      " [[ 7  8]\n",
      "  [ 9  0]\n",
      "  [11 12]]]\n"
     ]
    }
   ],
   "source": [
    "new_arr3 = new_arr1.reshape(2,3,2)\n",
    "print(new_arr3)"
   ]
  },
  {
   "cell_type": "markdown",
   "id": "a721770a-e959-4995-8c0e-30b8236332d9",
   "metadata": {},
   "source": [
    "### Flattening the arrays"
   ]
  },
  {
   "cell_type": "code",
   "execution_count": 13,
   "id": "e58c8f6d-1cd8-47d6-abfb-d113cac999d4",
   "metadata": {},
   "outputs": [
    {
     "name": "stdout",
     "output_type": "stream",
     "text": [
      "[1 2 3 4 5 6]\n"
     ]
    }
   ],
   "source": [
    "arr_f = np.array([[1, 2, 3], [4, 5, 6]])\n",
    "newarr_f = arr_f.reshape(-1)\n",
    "print(newarr_f)"
   ]
  },
  {
   "cell_type": "code",
   "execution_count": 21,
   "id": "b04a2236-f167-4cbe-b81b-aff2e7f4420c",
   "metadata": {},
   "outputs": [
    {
     "name": "stdout",
     "output_type": "stream",
     "text": [
      "[ 1  2  3  4  7  6  7  8  9  0 11 12]\n"
     ]
    }
   ],
   "source": [
    "arr_f2 = np.array( [ [ [ 1 , 2],[ 3 , 4],[ 7 , 6] ],[[ 7 , 8],[ 9 , 0],[11 ,12]]])\n",
    "newarr_f2 = arr_f2.reshape(-1)\n",
    "print(newarr_f2)"
   ]
  }
 ],
 "metadata": {
  "kernelspec": {
   "display_name": "Python 3 (ipykernel)",
   "language": "python",
   "name": "python3"
  },
  "language_info": {
   "codemirror_mode": {
    "name": "ipython",
    "version": 3
   },
   "file_extension": ".py",
   "mimetype": "text/x-python",
   "name": "python",
   "nbconvert_exporter": "python",
   "pygments_lexer": "ipython3",
   "version": "3.13.5"
  }
 },
 "nbformat": 4,
 "nbformat_minor": 5
}
