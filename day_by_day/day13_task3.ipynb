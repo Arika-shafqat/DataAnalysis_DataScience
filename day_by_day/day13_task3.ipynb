{
 "cells": [
  {
   "cell_type": "code",
   "execution_count": 2,
   "id": "cb9198da-8e6f-45a9-b0a4-360409d1ad23",
   "metadata": {},
   "outputs": [],
   "source": [
    "import numpy as np\n",
    "import pandas as pd"
   ]
  },
  {
   "cell_type": "code",
   "execution_count": 3,
   "id": "f7d162a9-96e3-4879-a478-b2f32dc3980b",
   "metadata": {},
   "outputs": [],
   "source": [
    "df = pd.read_csv(\"C:\\\\Users\\\\ssc\\\\Documents\\\\retail_store_sales.csv\")"
   ]
  },
  {
   "cell_type": "code",
   "execution_count": 4,
   "id": "c0c598a3-2d31-4af2-a216-dcaad4eddd78",
   "metadata": {},
   "outputs": [
    {
     "name": "stdout",
     "output_type": "stream",
     "text": [
      "<class 'pandas.core.frame.DataFrame'>\n",
      "RangeIndex: 12575 entries, 0 to 12574\n",
      "Data columns (total 11 columns):\n",
      " #   Column            Non-Null Count  Dtype  \n",
      "---  ------            --------------  -----  \n",
      " 0   Transaction ID    12575 non-null  object \n",
      " 1   Customer ID       12575 non-null  object \n",
      " 2   Category          12575 non-null  object \n",
      " 3   Item              11362 non-null  object \n",
      " 4   Price Per Unit    11966 non-null  float64\n",
      " 5   Quantity          11971 non-null  float64\n",
      " 6   Total Spent       11971 non-null  float64\n",
      " 7   Payment Method    12575 non-null  object \n",
      " 8   Location          12575 non-null  object \n",
      " 9   Transaction Date  12575 non-null  object \n",
      " 10  Discount Applied  8376 non-null   object \n",
      "dtypes: float64(3), object(8)\n",
      "memory usage: 1.1+ MB\n"
     ]
    }
   ],
   "source": [
    "df.info()"
   ]
  },
  {
   "cell_type": "markdown",
   "id": "58b20be8-91ed-465f-af65-7ab1c4dc4e4b",
   "metadata": {},
   "source": [
    "# Part 1: Data Cleaning & Preparation"
   ]
  },
  {
   "cell_type": "markdown",
   "id": "ac32261e-9d21-4bf9-8175-873266e450c0",
   "metadata": {},
   "source": [
    "## 1. Missing values"
   ]
  },
  {
   "cell_type": "code",
   "execution_count": 5,
   "id": "fc7daf3b-6597-491f-b969-efdbacd201b5",
   "metadata": {},
   "outputs": [
    {
     "data": {
      "text/plain": [
       "Transaction ID         0\n",
       "Customer ID            0\n",
       "Category               0\n",
       "Item                1213\n",
       "Price Per Unit       609\n",
       "Quantity             604\n",
       "Total Spent          604\n",
       "Payment Method         0\n",
       "Location               0\n",
       "Transaction Date       0\n",
       "Discount Applied    4199\n",
       "dtype: int64"
      ]
     },
     "execution_count": 5,
     "metadata": {},
     "output_type": "execute_result"
    }
   ],
   "source": [
    "# Which columns have missing values?\n",
    "df.isnull().sum()"
   ]
  },
  {
   "cell_type": "code",
   "execution_count": 6,
   "id": "a93fd281-0265-4d17-ba43-276738c5e7c4",
   "metadata": {},
   "outputs": [
    {
     "name": "stdout",
     "output_type": "stream",
     "text": [
      "Transaction ID       0.000000\n",
      "Customer ID          0.000000\n",
      "Category             0.000000\n",
      "Item                 9.646123\n",
      "Price Per Unit       4.842942\n",
      "Quantity             4.803181\n",
      "Total Spent          4.803181\n",
      "Payment Method       0.000000\n",
      "Location             0.000000\n",
      "Transaction Date     0.000000\n",
      "Discount Applied    33.391650\n",
      "dtype: float64\n"
     ]
    }
   ],
   "source": [
    "# What percentage of the dataset is missing in each column?\n",
    "print((df.isnull().mean() * 100))"
   ]
  },
  {
   "cell_type": "code",
   "execution_count": 7,
   "id": "87be2be8-de5d-4a17-b0ca-f7d86b34fa83",
   "metadata": {},
   "outputs": [
    {
     "name": "stderr",
     "output_type": "stream",
     "text": [
      "C:\\Users\\ssc\\AppData\\Local\\Temp\\ipykernel_8488\\996971064.py:7: FutureWarning: Downcasting object dtype arrays on .fillna, .ffill, .bfill is deprecated and will change in a future version. Call result.infer_objects(copy=False) instead. To opt-in to the future behavior, set `pd.set_option('future.no_silent_downcasting', True)`\n",
      "  df = df.fillna({col: df[col].median() if df[col].dtype != 'object' else df[col].mode().iloc[0] for col in df.columns})\n"
     ]
    },
    {
     "data": {
      "text/html": [
       "<div>\n",
       "<style scoped>\n",
       "    .dataframe tbody tr th:only-of-type {\n",
       "        vertical-align: middle;\n",
       "    }\n",
       "\n",
       "    .dataframe tbody tr th {\n",
       "        vertical-align: top;\n",
       "    }\n",
       "\n",
       "    .dataframe thead th {\n",
       "        text-align: right;\n",
       "    }\n",
       "</style>\n",
       "<table border=\"1\" class=\"dataframe\">\n",
       "  <thead>\n",
       "    <tr style=\"text-align: right;\">\n",
       "      <th></th>\n",
       "      <th>Transaction ID</th>\n",
       "      <th>Customer ID</th>\n",
       "      <th>Category</th>\n",
       "      <th>Item</th>\n",
       "      <th>Price Per Unit</th>\n",
       "      <th>Quantity</th>\n",
       "      <th>Total Spent</th>\n",
       "      <th>Payment Method</th>\n",
       "      <th>Location</th>\n",
       "      <th>Transaction Date</th>\n",
       "      <th>Discount Applied</th>\n",
       "    </tr>\n",
       "  </thead>\n",
       "  <tbody>\n",
       "    <tr>\n",
       "      <th>2821</th>\n",
       "      <td>TXN_3595305</td>\n",
       "      <td>CUST_03</td>\n",
       "      <td>Computers and electric accessories</td>\n",
       "      <td>Item_19_CEA</td>\n",
       "      <td>32.0</td>\n",
       "      <td>1.0</td>\n",
       "      <td>32.0</td>\n",
       "      <td>Cash</td>\n",
       "      <td>In-store</td>\n",
       "      <td>2023-04-16</td>\n",
       "      <td>True</td>\n",
       "    </tr>\n",
       "    <tr>\n",
       "      <th>1226</th>\n",
       "      <td>TXN_5012256</td>\n",
       "      <td>CUST_10</td>\n",
       "      <td>Furniture</td>\n",
       "      <td>Item_24_FUR</td>\n",
       "      <td>39.5</td>\n",
       "      <td>4.0</td>\n",
       "      <td>158.0</td>\n",
       "      <td>Digital Wallet</td>\n",
       "      <td>In-store</td>\n",
       "      <td>2022-04-16</td>\n",
       "      <td>False</td>\n",
       "    </tr>\n",
       "    <tr>\n",
       "      <th>11021</th>\n",
       "      <td>TXN_4235196</td>\n",
       "      <td>CUST_13</td>\n",
       "      <td>Food</td>\n",
       "      <td>Item_6_FOOD</td>\n",
       "      <td>12.5</td>\n",
       "      <td>9.0</td>\n",
       "      <td>112.5</td>\n",
       "      <td>Digital Wallet</td>\n",
       "      <td>In-store</td>\n",
       "      <td>2024-02-28</td>\n",
       "      <td>False</td>\n",
       "    </tr>\n",
       "    <tr>\n",
       "      <th>744</th>\n",
       "      <td>TXN_9906990</td>\n",
       "      <td>CUST_22</td>\n",
       "      <td>Butchers</td>\n",
       "      <td>Item_3_BUT</td>\n",
       "      <td>8.0</td>\n",
       "      <td>9.0</td>\n",
       "      <td>72.0</td>\n",
       "      <td>Digital Wallet</td>\n",
       "      <td>In-store</td>\n",
       "      <td>2022-07-11</td>\n",
       "      <td>False</td>\n",
       "    </tr>\n",
       "    <tr>\n",
       "      <th>11445</th>\n",
       "      <td>TXN_3939276</td>\n",
       "      <td>CUST_18</td>\n",
       "      <td>Furniture</td>\n",
       "      <td>Item_25_FUR</td>\n",
       "      <td>41.0</td>\n",
       "      <td>2.0</td>\n",
       "      <td>82.0</td>\n",
       "      <td>Cash</td>\n",
       "      <td>In-store</td>\n",
       "      <td>2022-05-04</td>\n",
       "      <td>True</td>\n",
       "    </tr>\n",
       "    <tr>\n",
       "      <th>2928</th>\n",
       "      <td>TXN_3545596</td>\n",
       "      <td>CUST_10</td>\n",
       "      <td>Beverages</td>\n",
       "      <td>Item_10_BEV</td>\n",
       "      <td>18.5</td>\n",
       "      <td>7.0</td>\n",
       "      <td>129.5</td>\n",
       "      <td>Credit Card</td>\n",
       "      <td>In-store</td>\n",
       "      <td>2023-03-26</td>\n",
       "      <td>True</td>\n",
       "    </tr>\n",
       "    <tr>\n",
       "      <th>444</th>\n",
       "      <td>TXN_5809744</td>\n",
       "      <td>CUST_18</td>\n",
       "      <td>Food</td>\n",
       "      <td>Item_9_FOOD</td>\n",
       "      <td>17.0</td>\n",
       "      <td>4.0</td>\n",
       "      <td>68.0</td>\n",
       "      <td>Cash</td>\n",
       "      <td>In-store</td>\n",
       "      <td>2023-01-29</td>\n",
       "      <td>True</td>\n",
       "    </tr>\n",
       "    <tr>\n",
       "      <th>6989</th>\n",
       "      <td>TXN_8662660</td>\n",
       "      <td>CUST_14</td>\n",
       "      <td>Furniture</td>\n",
       "      <td>Item_2_FUR</td>\n",
       "      <td>6.5</td>\n",
       "      <td>10.0</td>\n",
       "      <td>65.0</td>\n",
       "      <td>Credit Card</td>\n",
       "      <td>Online</td>\n",
       "      <td>2022-05-29</td>\n",
       "      <td>True</td>\n",
       "    </tr>\n",
       "    <tr>\n",
       "      <th>3622</th>\n",
       "      <td>TXN_9216790</td>\n",
       "      <td>CUST_15</td>\n",
       "      <td>Computers and electric accessories</td>\n",
       "      <td>Item_2_CEA</td>\n",
       "      <td>6.5</td>\n",
       "      <td>2.0</td>\n",
       "      <td>13.0</td>\n",
       "      <td>Credit Card</td>\n",
       "      <td>Online</td>\n",
       "      <td>2024-09-06</td>\n",
       "      <td>True</td>\n",
       "    </tr>\n",
       "    <tr>\n",
       "      <th>10939</th>\n",
       "      <td>TXN_3314885</td>\n",
       "      <td>CUST_23</td>\n",
       "      <td>Electric household essentials</td>\n",
       "      <td>Item_25_EHE</td>\n",
       "      <td>41.0</td>\n",
       "      <td>2.0</td>\n",
       "      <td>82.0</td>\n",
       "      <td>Credit Card</td>\n",
       "      <td>Online</td>\n",
       "      <td>2024-01-17</td>\n",
       "      <td>True</td>\n",
       "    </tr>\n",
       "  </tbody>\n",
       "</table>\n",
       "</div>"
      ],
      "text/plain": [
       "      Transaction ID Customer ID                            Category  \\\n",
       "2821     TXN_3595305     CUST_03  Computers and electric accessories   \n",
       "1226     TXN_5012256     CUST_10                           Furniture   \n",
       "11021    TXN_4235196     CUST_13                                Food   \n",
       "744      TXN_9906990     CUST_22                            Butchers   \n",
       "11445    TXN_3939276     CUST_18                           Furniture   \n",
       "2928     TXN_3545596     CUST_10                           Beverages   \n",
       "444      TXN_5809744     CUST_18                                Food   \n",
       "6989     TXN_8662660     CUST_14                           Furniture   \n",
       "3622     TXN_9216790     CUST_15  Computers and electric accessories   \n",
       "10939    TXN_3314885     CUST_23       Electric household essentials   \n",
       "\n",
       "              Item  Price Per Unit  Quantity  Total Spent  Payment Method  \\\n",
       "2821   Item_19_CEA            32.0       1.0         32.0            Cash   \n",
       "1226   Item_24_FUR            39.5       4.0        158.0  Digital Wallet   \n",
       "11021  Item_6_FOOD            12.5       9.0        112.5  Digital Wallet   \n",
       "744     Item_3_BUT             8.0       9.0         72.0  Digital Wallet   \n",
       "11445  Item_25_FUR            41.0       2.0         82.0            Cash   \n",
       "2928   Item_10_BEV            18.5       7.0        129.5     Credit Card   \n",
       "444    Item_9_FOOD            17.0       4.0         68.0            Cash   \n",
       "6989    Item_2_FUR             6.5      10.0         65.0     Credit Card   \n",
       "3622    Item_2_CEA             6.5       2.0         13.0     Credit Card   \n",
       "10939  Item_25_EHE            41.0       2.0         82.0     Credit Card   \n",
       "\n",
       "       Location Transaction Date  Discount Applied  \n",
       "2821   In-store       2023-04-16              True  \n",
       "1226   In-store       2022-04-16             False  \n",
       "11021  In-store       2024-02-28             False  \n",
       "744    In-store       2022-07-11             False  \n",
       "11445  In-store       2022-05-04              True  \n",
       "2928   In-store       2023-03-26              True  \n",
       "444    In-store       2023-01-29              True  \n",
       "6989     Online       2022-05-29              True  \n",
       "3622     Online       2024-09-06              True  \n",
       "10939    Online       2024-01-17              True  "
      ]
     },
     "execution_count": 7,
     "metadata": {},
     "output_type": "execute_result"
    }
   ],
   "source": [
    "# Suggest and apply strategies to fill/fix missing values for:\n",
    "# \tItem\n",
    "# \tQuantity\n",
    "# \tTotal Spent\n",
    "# \tDiscount Applied\n",
    "\n",
    "df = df.fillna({col: df[col].median() if df[col].dtype != 'object' else df[col].mode().iloc[0] for col in df.columns})\n",
    "df.sample(10)"
   ]
  },
  {
   "cell_type": "code",
   "execution_count": 8,
   "id": "c3a617e4-a240-43b1-bf5e-622e0f7d6001",
   "metadata": {},
   "outputs": [
    {
     "data": {
      "text/plain": [
       "Transaction ID      0\n",
       "Customer ID         0\n",
       "Category            0\n",
       "Item                0\n",
       "Price Per Unit      0\n",
       "Quantity            0\n",
       "Total Spent         0\n",
       "Payment Method      0\n",
       "Location            0\n",
       "Transaction Date    0\n",
       "Discount Applied    0\n",
       "dtype: int64"
      ]
     },
     "execution_count": 8,
     "metadata": {},
     "output_type": "execute_result"
    }
   ],
   "source": [
    "df.isnull().sum()"
   ]
  },
  {
   "cell_type": "markdown",
   "id": "25c21050-f326-4fe7-807e-59af75c4708a",
   "metadata": {},
   "source": [
    "## 2.Data consistency"
   ]
  },
  {
   "cell_type": "code",
   "execution_count": 9,
   "id": "1e974e29-8d8e-4090-aac1-e1d738e3153a",
   "metadata": {},
   "outputs": [
    {
     "name": "stdout",
     "output_type": "stream",
     "text": [
      "True\n",
      "No of duplicated of transaction  Empty DataFrame\n",
      "Columns: [Transaction ID, Customer ID, Category, Item, Price Per Unit, Quantity, Total Spent, Payment Method, Location, Transaction Date, Discount Applied]\n",
      "Index: []\n",
      "No of duplicated values 0\n"
     ]
    }
   ],
   "source": [
    "# Are all Transaction IDs unique? If not, identify duplicates.\n",
    "\n",
    "# Check if all Transaction IDs are unique:\n",
    "print(df['Transaction ID'].is_unique)\n",
    "\n",
    "# Find duplicate Transaction IDs:\n",
    "print(\"No of duplicated of transaction \", df[df['Transaction ID'].duplicated(keep=False)])\n",
    "\n",
    "# Count of duplicate Transaction IDs:\n",
    "print(\"No of duplicated values\",df['Transaction ID'].duplicated().sum())\n"
   ]
  },
  {
   "cell_type": "code",
   "execution_count": 10,
   "id": "08a56e49-2575-40ec-bdf1-a5c6da371e00",
   "metadata": {},
   "outputs": [
    {
     "data": {
      "text/plain": [
       "np.int64(0)"
      ]
     },
     "execution_count": 10,
     "metadata": {},
     "output_type": "execute_result"
    }
   ],
   "source": [
    "# Are there duplicate rows in the dataset?\n",
    "df.duplicated().sum()"
   ]
  },
  {
   "cell_type": "code",
   "execution_count": 11,
   "id": "e3ce319b-2dab-42a1-aa86-9e6aec7f9ff0",
   "metadata": {},
   "outputs": [
    {
     "data": {
      "text/html": [
       "<div>\n",
       "<style scoped>\n",
       "    .dataframe tbody tr th:only-of-type {\n",
       "        vertical-align: middle;\n",
       "    }\n",
       "\n",
       "    .dataframe tbody tr th {\n",
       "        vertical-align: top;\n",
       "    }\n",
       "\n",
       "    .dataframe thead th {\n",
       "        text-align: right;\n",
       "    }\n",
       "</style>\n",
       "<table border=\"1\" class=\"dataframe\">\n",
       "  <thead>\n",
       "    <tr style=\"text-align: right;\">\n",
       "      <th></th>\n",
       "      <th>Transaction ID</th>\n",
       "      <th>Customer ID</th>\n",
       "      <th>Category</th>\n",
       "      <th>Item</th>\n",
       "      <th>Price Per Unit</th>\n",
       "      <th>Quantity</th>\n",
       "      <th>Total Spent</th>\n",
       "      <th>Payment Method</th>\n",
       "      <th>Location</th>\n",
       "      <th>Transaction Date</th>\n",
       "      <th>Discount Applied</th>\n",
       "      <th>mismatch</th>\n",
       "    </tr>\n",
       "  </thead>\n",
       "  <tbody>\n",
       "    <tr>\n",
       "      <th>1924</th>\n",
       "      <td>TXN_8084251</td>\n",
       "      <td>CUST_16</td>\n",
       "      <td>Electric household essentials</td>\n",
       "      <td>Item_2_BEV</td>\n",
       "      <td>26.0</td>\n",
       "      <td>6.0</td>\n",
       "      <td>108.5</td>\n",
       "      <td>Digital Wallet</td>\n",
       "      <td>In-store</td>\n",
       "      <td>2024-01-03</td>\n",
       "      <td>True</td>\n",
       "      <td>True</td>\n",
       "    </tr>\n",
       "    <tr>\n",
       "      <th>3024</th>\n",
       "      <td>TXN_2792485</td>\n",
       "      <td>CUST_04</td>\n",
       "      <td>Computers and electric accessories</td>\n",
       "      <td>Item_2_BEV</td>\n",
       "      <td>6.5</td>\n",
       "      <td>6.0</td>\n",
       "      <td>108.5</td>\n",
       "      <td>Digital Wallet</td>\n",
       "      <td>In-store</td>\n",
       "      <td>2022-08-09</td>\n",
       "      <td>True</td>\n",
       "      <td>True</td>\n",
       "    </tr>\n",
       "    <tr>\n",
       "      <th>2153</th>\n",
       "      <td>TXN_5338814</td>\n",
       "      <td>CUST_06</td>\n",
       "      <td>Milk Products</td>\n",
       "      <td>Item_2_BEV</td>\n",
       "      <td>23.0</td>\n",
       "      <td>10.0</td>\n",
       "      <td>410.0</td>\n",
       "      <td>Digital Wallet</td>\n",
       "      <td>Online</td>\n",
       "      <td>2023-03-13</td>\n",
       "      <td>False</td>\n",
       "      <td>True</td>\n",
       "    </tr>\n",
       "  </tbody>\n",
       "</table>\n",
       "</div>"
      ],
      "text/plain": [
       "     Transaction ID Customer ID                            Category  \\\n",
       "1924    TXN_8084251     CUST_16       Electric household essentials   \n",
       "3024    TXN_2792485     CUST_04  Computers and electric accessories   \n",
       "2153    TXN_5338814     CUST_06                       Milk Products   \n",
       "\n",
       "            Item  Price Per Unit  Quantity  Total Spent  Payment Method  \\\n",
       "1924  Item_2_BEV            26.0       6.0        108.5  Digital Wallet   \n",
       "3024  Item_2_BEV             6.5       6.0        108.5  Digital Wallet   \n",
       "2153  Item_2_BEV            23.0      10.0        410.0  Digital Wallet   \n",
       "\n",
       "      Location Transaction Date  Discount Applied  mismatch  \n",
       "1924  In-store       2024-01-03              True      True  \n",
       "3024  In-store       2022-08-09              True      True  \n",
       "2153    Online       2023-03-13             False      True  "
      ]
     },
     "execution_count": 11,
     "metadata": {},
     "output_type": "execute_result"
    }
   ],
   "source": [
    "# \tVerify whether Price Per Unit × Quantity = Total Spent. Flag mismatches.\n",
    "df['mismatch'] = df['Price Per Unit'] * df['Quantity'] != df['Total Spent']\n",
    "df[df['mismatch']].sample(3)"
   ]
  },
  {
   "cell_type": "markdown",
   "id": "e6cdc433-190b-4271-8846-59fbce3e4df4",
   "metadata": {},
   "source": [
    "## 3. Data types"
   ]
  },
  {
   "cell_type": "code",
   "execution_count": 12,
   "id": "159999d5-1628-4d12-acbf-ce641ab12d94",
   "metadata": {},
   "outputs": [
    {
     "data": {
      "text/html": [
       "<div>\n",
       "<style scoped>\n",
       "    .dataframe tbody tr th:only-of-type {\n",
       "        vertical-align: middle;\n",
       "    }\n",
       "\n",
       "    .dataframe tbody tr th {\n",
       "        vertical-align: top;\n",
       "    }\n",
       "\n",
       "    .dataframe thead th {\n",
       "        text-align: right;\n",
       "    }\n",
       "</style>\n",
       "<table border=\"1\" class=\"dataframe\">\n",
       "  <thead>\n",
       "    <tr style=\"text-align: right;\">\n",
       "      <th></th>\n",
       "      <th>Transaction ID</th>\n",
       "      <th>Customer ID</th>\n",
       "      <th>Category</th>\n",
       "      <th>Item</th>\n",
       "      <th>Price Per Unit</th>\n",
       "      <th>Quantity</th>\n",
       "      <th>Total Spent</th>\n",
       "      <th>Payment Method</th>\n",
       "      <th>Location</th>\n",
       "      <th>Transaction Date</th>\n",
       "      <th>Discount Applied</th>\n",
       "      <th>mismatch</th>\n",
       "    </tr>\n",
       "  </thead>\n",
       "  <tbody>\n",
       "    <tr>\n",
       "      <th>0</th>\n",
       "      <td>TXN_6867343</td>\n",
       "      <td>CUST_09</td>\n",
       "      <td>Patisserie</td>\n",
       "      <td>Item_10_PAT</td>\n",
       "      <td>18.5</td>\n",
       "      <td>10.0</td>\n",
       "      <td>185.0</td>\n",
       "      <td>Digital Wallet</td>\n",
       "      <td>Online</td>\n",
       "      <td>2024-08-04</td>\n",
       "      <td>True</td>\n",
       "      <td>False</td>\n",
       "    </tr>\n",
       "    <tr>\n",
       "      <th>1</th>\n",
       "      <td>TXN_3731986</td>\n",
       "      <td>CUST_22</td>\n",
       "      <td>Milk Products</td>\n",
       "      <td>Item_17_MILK</td>\n",
       "      <td>29.0</td>\n",
       "      <td>9.0</td>\n",
       "      <td>261.0</td>\n",
       "      <td>Digital Wallet</td>\n",
       "      <td>Online</td>\n",
       "      <td>NaT</td>\n",
       "      <td>True</td>\n",
       "      <td>False</td>\n",
       "    </tr>\n",
       "    <tr>\n",
       "      <th>2</th>\n",
       "      <td>TXN_9303719</td>\n",
       "      <td>CUST_02</td>\n",
       "      <td>Butchers</td>\n",
       "      <td>Item_12_BUT</td>\n",
       "      <td>21.5</td>\n",
       "      <td>2.0</td>\n",
       "      <td>43.0</td>\n",
       "      <td>Credit Card</td>\n",
       "      <td>Online</td>\n",
       "      <td>2022-05-10</td>\n",
       "      <td>False</td>\n",
       "      <td>False</td>\n",
       "    </tr>\n",
       "  </tbody>\n",
       "</table>\n",
       "</div>"
      ],
      "text/plain": [
       "  Transaction ID Customer ID       Category          Item  Price Per Unit  \\\n",
       "0    TXN_6867343     CUST_09     Patisserie   Item_10_PAT            18.5   \n",
       "1    TXN_3731986     CUST_22  Milk Products  Item_17_MILK            29.0   \n",
       "2    TXN_9303719     CUST_02       Butchers   Item_12_BUT            21.5   \n",
       "\n",
       "   Quantity  Total Spent  Payment Method Location Transaction Date  \\\n",
       "0      10.0        185.0  Digital Wallet   Online       2024-08-04   \n",
       "1       9.0        261.0  Digital Wallet   Online              NaT   \n",
       "2       2.0         43.0     Credit Card   Online       2022-05-10   \n",
       "\n",
       "   Discount Applied  mismatch  \n",
       "0              True     False  \n",
       "1              True     False  \n",
       "2             False     False  "
      ]
     },
     "execution_count": 12,
     "metadata": {},
     "output_type": "execute_result"
    }
   ],
   "source": [
    "# Convert Transaction Date into a proper datetime object.\n",
    "df['Transaction Date'] = pd.to_datetime(df['Transaction Date'], dayfirst=True, errors='coerce')\n",
    "df.head(3)"
   ]
  },
  {
   "cell_type": "code",
   "execution_count": 13,
   "id": "1bc567ee-1170-4083-aaed-644912990f3c",
   "metadata": {},
   "outputs": [
    {
     "data": {
      "text/plain": [
       "Transaction ID              object\n",
       "Customer ID                 object\n",
       "Category                    object\n",
       "Item                        object\n",
       "Price Per Unit             float64\n",
       "Quantity                   float64\n",
       "Total Spent                float64\n",
       "Payment Method              object\n",
       "Location                    object\n",
       "Transaction Date    datetime64[ns]\n",
       "Discount Applied              bool\n",
       "mismatch                      bool\n",
       "dtype: object"
      ]
     },
     "execution_count": 13,
     "metadata": {},
     "output_type": "execute_result"
    }
   ],
   "source": [
    "#\tEnsure Price Per Unit, Quantity, and Total Spent are numeric.\n",
    "df.dtypes"
   ]
  },
  {
   "cell_type": "code",
   "execution_count": 14,
   "id": "73dffb93-1a31-4087-814b-22418c87a75f",
   "metadata": {},
   "outputs": [],
   "source": [
    "# Convert Discount Applied into a Boolean (True/False).\n"
   ]
  },
  {
   "cell_type": "markdown",
   "id": "19746c85-aa7f-4dee-9352-bf872841fea1",
   "metadata": {},
   "source": [
    "## 4.Standardization"
   ]
  },
  {
   "cell_type": "code",
   "execution_count": 15,
   "id": "65029ff5-4bfb-4e5f-aabc-c06829e422b4",
   "metadata": {},
   "outputs": [
    {
     "data": {
      "text/html": [
       "<div>\n",
       "<style scoped>\n",
       "    .dataframe tbody tr th:only-of-type {\n",
       "        vertical-align: middle;\n",
       "    }\n",
       "\n",
       "    .dataframe tbody tr th {\n",
       "        vertical-align: top;\n",
       "    }\n",
       "\n",
       "    .dataframe thead th {\n",
       "        text-align: right;\n",
       "    }\n",
       "</style>\n",
       "<table border=\"1\" class=\"dataframe\">\n",
       "  <thead>\n",
       "    <tr style=\"text-align: right;\">\n",
       "      <th></th>\n",
       "      <th>Transaction ID</th>\n",
       "      <th>Customer ID</th>\n",
       "      <th>Category</th>\n",
       "      <th>Item</th>\n",
       "      <th>Price Per Unit</th>\n",
       "      <th>Quantity</th>\n",
       "      <th>Total Spent</th>\n",
       "      <th>Payment Method</th>\n",
       "      <th>Location</th>\n",
       "      <th>Transaction Date</th>\n",
       "      <th>Discount Applied</th>\n",
       "      <th>mismatch</th>\n",
       "    </tr>\n",
       "  </thead>\n",
       "  <tbody>\n",
       "    <tr>\n",
       "      <th>0</th>\n",
       "      <td>TXN_6867343</td>\n",
       "      <td>CUST_09</td>\n",
       "      <td>Patisserie</td>\n",
       "      <td>Item_10_PAT</td>\n",
       "      <td>18.5</td>\n",
       "      <td>10.0</td>\n",
       "      <td>185.0</td>\n",
       "      <td>digital wallet</td>\n",
       "      <td>Online</td>\n",
       "      <td>2024-08-04</td>\n",
       "      <td>True</td>\n",
       "      <td>False</td>\n",
       "    </tr>\n",
       "    <tr>\n",
       "      <th>1</th>\n",
       "      <td>TXN_3731986</td>\n",
       "      <td>CUST_22</td>\n",
       "      <td>Milk Products</td>\n",
       "      <td>Item_17_MILK</td>\n",
       "      <td>29.0</td>\n",
       "      <td>9.0</td>\n",
       "      <td>261.0</td>\n",
       "      <td>digital wallet</td>\n",
       "      <td>Online</td>\n",
       "      <td>NaT</td>\n",
       "      <td>True</td>\n",
       "      <td>False</td>\n",
       "    </tr>\n",
       "  </tbody>\n",
       "</table>\n",
       "</div>"
      ],
      "text/plain": [
       "  Transaction ID Customer ID       Category          Item  Price Per Unit  \\\n",
       "0    TXN_6867343     CUST_09     Patisserie   Item_10_PAT            18.5   \n",
       "1    TXN_3731986     CUST_22  Milk Products  Item_17_MILK            29.0   \n",
       "\n",
       "   Quantity  Total Spent  Payment Method Location Transaction Date  \\\n",
       "0      10.0        185.0  digital wallet   Online       2024-08-04   \n",
       "1       9.0        261.0  digital wallet   Online              NaT   \n",
       "\n",
       "   Discount Applied  mismatch  \n",
       "0              True     False  \n",
       "1              True     False  "
      ]
     },
     "execution_count": 15,
     "metadata": {},
     "output_type": "execute_result"
    }
   ],
   "source": [
    "#\tStandardize values in Payment Method (e.g., fix casing differences).\n",
    "df['Payment Method'] = df['Payment Method'].str.strip().str.lower()\n",
    "df.head(2)"
   ]
  },
  {
   "cell_type": "code",
   "execution_count": 16,
   "id": "8826f1d2-cffb-42c5-bfed-6cf5d81bab07",
   "metadata": {},
   "outputs": [
    {
     "data": {
      "text/html": [
       "<div>\n",
       "<style scoped>\n",
       "    .dataframe tbody tr th:only-of-type {\n",
       "        vertical-align: middle;\n",
       "    }\n",
       "\n",
       "    .dataframe tbody tr th {\n",
       "        vertical-align: top;\n",
       "    }\n",
       "\n",
       "    .dataframe thead th {\n",
       "        text-align: right;\n",
       "    }\n",
       "</style>\n",
       "<table border=\"1\" class=\"dataframe\">\n",
       "  <thead>\n",
       "    <tr style=\"text-align: right;\">\n",
       "      <th></th>\n",
       "      <th>Transaction ID</th>\n",
       "      <th>Customer ID</th>\n",
       "      <th>Category</th>\n",
       "      <th>Item</th>\n",
       "      <th>Price Per Unit</th>\n",
       "      <th>Quantity</th>\n",
       "      <th>Total Spent</th>\n",
       "      <th>Payment Method</th>\n",
       "      <th>Location</th>\n",
       "      <th>Transaction Date</th>\n",
       "      <th>Discount Applied</th>\n",
       "      <th>mismatch</th>\n",
       "    </tr>\n",
       "  </thead>\n",
       "  <tbody>\n",
       "    <tr>\n",
       "      <th>0</th>\n",
       "      <td>TXN_6867343</td>\n",
       "      <td>CUST_09</td>\n",
       "      <td>Patisserie</td>\n",
       "      <td>Item_10_PAT</td>\n",
       "      <td>18.5</td>\n",
       "      <td>10.0</td>\n",
       "      <td>185.0</td>\n",
       "      <td>digital wallet</td>\n",
       "      <td>Online</td>\n",
       "      <td>2024-08-04</td>\n",
       "      <td>True</td>\n",
       "      <td>False</td>\n",
       "    </tr>\n",
       "    <tr>\n",
       "      <th>1</th>\n",
       "      <td>TXN_3731986</td>\n",
       "      <td>CUST_22</td>\n",
       "      <td>Milk Products</td>\n",
       "      <td>Item_17_MILK</td>\n",
       "      <td>29.0</td>\n",
       "      <td>9.0</td>\n",
       "      <td>261.0</td>\n",
       "      <td>digital wallet</td>\n",
       "      <td>Online</td>\n",
       "      <td>NaT</td>\n",
       "      <td>True</td>\n",
       "      <td>False</td>\n",
       "    </tr>\n",
       "  </tbody>\n",
       "</table>\n",
       "</div>"
      ],
      "text/plain": [
       "  Transaction ID Customer ID       Category          Item  Price Per Unit  \\\n",
       "0    TXN_6867343     CUST_09     Patisserie   Item_10_PAT            18.5   \n",
       "1    TXN_3731986     CUST_22  Milk Products  Item_17_MILK            29.0   \n",
       "\n",
       "   Quantity  Total Spent  Payment Method Location Transaction Date  \\\n",
       "0      10.0        185.0  digital wallet   Online       2024-08-04   \n",
       "1       9.0        261.0  digital wallet   Online              NaT   \n",
       "\n",
       "   Discount Applied  mismatch  \n",
       "0              True     False  \n",
       "1              True     False  "
      ]
     },
     "execution_count": 16,
     "metadata": {},
     "output_type": "execute_result"
    }
   ],
   "source": [
    "#\tStandardize Location (“Online” vs “In-store”).\n",
    "#\tEnsure Category values follow one naming convention\n",
    "df['Location'] = df['Location'].str.strip().str.lower().replace({\n",
    "    'on-line': 'online',\n",
    "    'web': 'online',\n",
    "    'instore': 'in-store',\n",
    "    'store': 'in-store'\n",
    "}).str.title()\n",
    "df.head(2)"
   ]
  },
  {
   "cell_type": "markdown",
   "id": "955ebc26-d844-4451-9705-cba588af2700",
   "metadata": {},
   "source": [
    "# Part 2: Basic Exploration (Univariate Analysis)"
   ]
  },
  {
   "cell_type": "code",
   "execution_count": 17,
   "id": "8493230e-bef9-4d57-a54d-c4495c2c717b",
   "metadata": {},
   "outputs": [
    {
     "name": "stdout",
     "output_type": "stream",
     "text": [
      "Total Transactions: 12575\n"
     ]
    }
   ],
   "source": [
    "# How many total transactions are in the dataset?\n",
    "total_transactions = len(df)\n",
    "print(\"Total Transactions:\", total_transactions)"
   ]
  },
  {
   "cell_type": "code",
   "execution_count": 18,
   "id": "6c5f8b4c-73b9-479f-a823-fdaca2a77587",
   "metadata": {},
   "outputs": [
    {
     "data": {
      "text/plain": [
       "25"
      ]
     },
     "execution_count": 18,
     "metadata": {},
     "output_type": "execute_result"
    }
   ],
   "source": [
    "# How many unique customers are there?\n",
    "df['Customer ID'].nunique()"
   ]
  },
  {
   "cell_type": "code",
   "execution_count": 19,
   "id": "57875580-6fed-4b75-885e-1d985df35fb6",
   "metadata": {},
   "outputs": [
    {
     "data": {
      "text/plain": [
       "Category\n",
       "Beverages                             12.461233\n",
       "Butchers                              12.469185\n",
       "Computers and electric accessories    12.389662\n",
       "Electric household essentials         12.652087\n",
       "Food                                  12.628231\n",
       "Furniture                             12.652087\n",
       "Milk Products                         12.596421\n",
       "Patisserie                            12.151093\n",
       "dtype: float64"
      ]
     },
     "execution_count": 19,
     "metadata": {},
     "output_type": "execute_result"
    }
   ],
   "source": [
    "# What is the distribution of transactions by Category?\n",
    "df.groupby('Category').size()\n",
    "\n",
    "df.groupby('Category').size() / len(df) * 100"
   ]
  },
  {
   "cell_type": "code",
   "execution_count": 20,
   "id": "fac4d143-9a55-4c3c-8c4a-bf10c0ace227",
   "metadata": {},
   "outputs": [
    {
     "data": {
      "text/plain": [
       "Payment Method\n",
       "cash              34.274354\n",
       "digital wallet    32.954274\n",
       "credit card       32.771372\n",
       "Name: proportion, dtype: float64"
      ]
     },
     "execution_count": 20,
     "metadata": {},
     "output_type": "execute_result"
    }
   ],
   "source": [
    "# What is the distribution of Payment Method?\n",
    "df['Payment Method'].value_counts()\n",
    "\n",
    "df['Payment Method'].value_counts(normalize=True) * 100"
   ]
  },
  {
   "cell_type": "code",
   "execution_count": 21,
   "id": "f6863d00-9b45-48b7-9c97-cc1b5b950388",
   "metadata": {},
   "outputs": [
    {
     "data": {
      "text/plain": [
       "Location\n",
       "Online      50.528827\n",
       "In-Store    49.471173\n",
       "Name: proportion, dtype: float64"
      ]
     },
     "execution_count": 21,
     "metadata": {},
     "output_type": "execute_result"
    }
   ],
   "source": [
    "# What is the distribution of transactions by Location (Online vs In-store)?\n",
    "df['Location'].value_counts()\n",
    "\n",
    "df['Location'].value_counts(normalize=True) * 100\n"
   ]
  },
  {
   "cell_type": "code",
   "execution_count": 22,
   "id": "446971d8-803f-4506-b04d-fbb61120d906",
   "metadata": {},
   "outputs": [
    {
     "data": {
      "text/plain": [
       "np.float64(128.63658051689862)"
      ]
     },
     "execution_count": 22,
     "metadata": {},
     "output_type": "execute_result"
    }
   ],
   "source": [
    "# What is the overall average Total Spent per transaction?\n",
    "df['Total Spent'].mean()"
   ]
  },
  {
   "cell_type": "code",
   "execution_count": 23,
   "id": "cbe78e9e-df2b-4f92-89a9-862ca1f17771",
   "metadata": {},
   "outputs": [
    {
     "data": {
      "text/plain": [
       "6.0"
      ]
     },
     "execution_count": 23,
     "metadata": {},
     "output_type": "execute_result"
    }
   ],
   "source": [
    "# What is the overall median Quantity purchased per transaction?\n",
    "df['Quantity'].median()"
   ]
  },
  {
   "cell_type": "markdown",
   "id": "2c32762e-af4e-4df3-806b-5b75cd7f4b99",
   "metadata": {},
   "source": [
    "# Part 3: Customer Analysis"
   ]
  },
  {
   "cell_type": "code",
   "execution_count": 24,
   "id": "6eb36288-f33a-45cb-9647-31c964f94f33",
   "metadata": {},
   "outputs": [
    {
     "data": {
      "text/plain": [
       "Customer ID\n",
       "CUST_24    71056.0\n",
       "CUST_08    70172.5\n",
       "CUST_05    70012.5\n",
       "CUST_23    67979.0\n",
       "CUST_13    67858.0\n",
       "CUST_16    67849.0\n",
       "CUST_10    65325.5\n",
       "CUST_21    65320.0\n",
       "CUST_15    65070.5\n",
       "CUST_22    64662.0\n",
       "CUST_20    64462.5\n",
       "CUST_02    64325.0\n",
       "CUST_19    64052.0\n",
       "CUST_07    63949.5\n",
       "CUST_04    63829.0\n",
       "CUST_09    63702.0\n",
       "CUST_12    63530.0\n",
       "CUST_11    63120.0\n",
       "CUST_03    62872.5\n",
       "CUST_18    62722.5\n",
       "CUST_14    62481.0\n",
       "CUST_17    61248.0\n",
       "CUST_01    61118.5\n",
       "CUST_06    60911.0\n",
       "CUST_25    59976.5\n",
       "Name: Total Spent, dtype: float64"
      ]
     },
     "execution_count": 24,
     "metadata": {},
     "output_type": "execute_result"
    }
   ],
   "source": [
    "# Which customers spent the most overall?\n",
    "df.groupby('Customer ID')['Total Spent'].sum().sort_values(ascending=False)"
   ]
  },
  {
   "cell_type": "code",
   "execution_count": 25,
   "id": "e4d72bbf-8bf8-442e-95a1-219888a24ea7",
   "metadata": {},
   "outputs": [
    {
     "data": {
      "text/plain": [
       "Customer ID\n",
       "CUST_05    544\n",
       "CUST_24    543\n",
       "CUST_13    534\n",
       "CUST_08    533\n",
       "CUST_09    519\n",
       "Name: count, dtype: int64"
      ]
     },
     "execution_count": 25,
     "metadata": {},
     "output_type": "execute_result"
    }
   ],
   "source": [
    "#\tWhich customers made the highest number of transactions\n",
    "df['Customer ID'].value_counts().head()"
   ]
  },
  {
   "cell_type": "code",
   "execution_count": 26,
   "id": "c6d75afd-4e38-4c5f-ba59-8e1d087902a9",
   "metadata": {},
   "outputs": [
    {
     "data": {
      "text/plain": [
       "Customer ID\n",
       "CUST_01    8\n",
       "CUST_14    8\n",
       "CUST_24    8\n",
       "CUST_23    8\n",
       "CUST_22    8\n",
       "Name: Category, dtype: int64"
      ]
     },
     "execution_count": 26,
     "metadata": {},
     "output_type": "execute_result"
    }
   ],
   "source": [
    "# Which customers purchased from the most categories?\n",
    "\n",
    "df.groupby('Customer ID')['Category'].nunique().sort_values(ascending=False).head()\n"
   ]
  },
  {
   "cell_type": "code",
   "execution_count": 27,
   "id": "cfb6753c-4237-4c6b-b64a-759c8e136502",
   "metadata": {},
   "outputs": [
    {
     "data": {
      "text/plain": [
       "Location\n",
       "Online      50.528827\n",
       "In-Store    49.471173\n",
       "Name: proportion, dtype: float64"
      ]
     },
     "execution_count": 27,
     "metadata": {},
     "output_type": "execute_result"
    }
   ],
   "source": [
    "# Do customers show a preference for Online or In-store shopping?\n",
    "df.groupby('Customer ID')['Location'].value_counts().unstack().fillna(0)\n",
    "df['Location'].value_counts(normalize=True) * 100"
   ]
  },
  {
   "cell_type": "code",
   "execution_count": 28,
   "id": "e4695df0-3bb0-4fcb-a74c-19aafeafb42b",
   "metadata": {},
   "outputs": [
    {
     "data": {
      "text/plain": [
       "Customer ID\n",
       "CUST_03    135.209677\n",
       "Name: Total Spent, dtype: float64"
      ]
     },
     "execution_count": 28,
     "metadata": {},
     "output_type": "execute_result"
    }
   ],
   "source": [
    "# Which customer has the largest average spend per transaction?\n",
    "df.groupby('Customer ID')['Total Spent'].mean().sort_values(ascending=False).head(1)\n"
   ]
  },
  {
   "cell_type": "markdown",
   "id": "19b7fe3d-aa16-4720-9529-a53624987568",
   "metadata": {},
   "source": [
    "# Part 4: Category & Item Analysis"
   ]
  },
  {
   "cell_type": "code",
   "execution_count": 29,
   "id": "ddf31b83-d901-48a7-9493-e1d2d731229c",
   "metadata": {},
   "outputs": [
    {
     "data": {
      "text/plain": [
       "Category\n",
       "Butchers    215930.0\n",
       "Name: Total Spent, dtype: float64"
      ]
     },
     "execution_count": 29,
     "metadata": {},
     "output_type": "execute_result"
    }
   ],
   "source": [
    "# Which category generated the most total revenue?\n",
    "df.groupby('Category')['Total Spent'].sum().sort_values(ascending=False).head(1)"
   ]
  },
  {
   "cell_type": "code",
   "execution_count": 30,
   "id": "bf24fc6f-e994-4d47-8c7a-dff0747460ff",
   "metadata": {},
   "outputs": [
    {
     "data": {
      "text/plain": [
       "Category\n",
       "Butchers    137.710459\n",
       "Name: Total Spent, dtype: float64"
      ]
     },
     "execution_count": 30,
     "metadata": {},
     "output_type": "execute_result"
    }
   ],
   "source": [
    "# Which category has the highest average Total Spent per transaction?\n",
    "df.groupby('Category')['Total Spent'].mean().sort_values(ascending=False).head(1)"
   ]
  },
  {
   "cell_type": "code",
   "execution_count": 31,
   "id": "185bcaa5-e1bf-47ca-945a-1f6a7ba098bb",
   "metadata": {},
   "outputs": [
    {
     "data": {
      "text/plain": [
       "Item\n",
       "Item_2_BEV      7687.0\n",
       "Item_16_MILK     627.0\n",
       "Item_25_FUR      616.0\n",
       "Item_19_MILK     589.0\n",
       "Item_13_FOOD     581.0\n",
       "Name: Quantity, dtype: float64"
      ]
     },
     "execution_count": 31,
     "metadata": {},
     "output_type": "execute_result"
    }
   ],
   "source": [
    "# Which items are the top sellers by total quantity sold? \n",
    "df.groupby('Item')['Quantity'].sum().sort_values(ascending=False).head()"
   ]
  },
  {
   "cell_type": "code",
   "execution_count": 32,
   "id": "93cf225a-d6a0-4d10-bea6-f6bdcb0fb38b",
   "metadata": {},
   "outputs": [
    {
     "data": {
      "text/plain": [
       "Category\n",
       "Furniture                             0.694532\n",
       "Beverages                             0.684110\n",
       "Patisserie                            0.678010\n",
       "Butchers                              0.672194\n",
       "Electric household essentials         0.668133\n",
       "Food                                  0.655542\n",
       "Milk Products                         0.653409\n",
       "Computers and electric accessories    0.649551\n",
       "Name: Discount Applied, dtype: float64"
      ]
     },
     "execution_count": 32,
     "metadata": {},
     "output_type": "execute_result"
    }
   ],
   "source": [
    "#  Are discounts applied more frequently in certain categories?\n",
    "df.groupby('Category')['Discount Applied'].apply(lambda x: (x > 0).mean()).sort_values(ascending=False)\n"
   ]
  },
  {
   "cell_type": "code",
   "execution_count": 33,
   "id": "ee4a3fe8-bc5c-4ebc-83f7-47f8c5f628a0",
   "metadata": {},
   "outputs": [
    {
     "data": {
      "text/plain": [
       "Category\n",
       "Beverages                             25\n",
       "Butchers                              25\n",
       "Computers and electric accessories    25\n",
       "Electric household essentials         25\n",
       "Food                                  25\n",
       "Furniture                             25\n",
       "Milk Products                         25\n",
       "Patisserie                            25\n",
       "Name: Customer ID, dtype: int64"
      ]
     },
     "execution_count": 33,
     "metadata": {},
     "output_type": "execute_result"
    }
   ],
   "source": [
    "# Which category has the highest number of unique customers buying from it?\n",
    "df.groupby('Category')['Customer ID'].nunique().sort_values(ascending=False)\n"
   ]
  },
  {
   "cell_type": "markdown",
   "id": "f3bc53ec-db53-4522-b23a-2aca392af2c1",
   "metadata": {},
   "source": [
    "#  Part 5: Time-based Analysis"
   ]
  },
  {
   "cell_type": "code",
   "execution_count": 34,
   "id": "d1007c05-3442-4860-b252-84c651fe37cc",
   "metadata": {},
   "outputs": [
    {
     "name": "stdout",
     "output_type": "stream",
     "text": [
      "Start Date: 2022-01-01 00:00:00\n",
      "End Date: 2025-12-01 00:00:00\n"
     ]
    }
   ],
   "source": [
    "print(\"Start Date:\", df['Transaction Date'].min())\n",
    "print(\"End Date:\", df['Transaction Date'].max())"
   ]
  },
  {
   "cell_type": "code",
   "execution_count": 35,
   "id": "b24bb39f-31ca-4d27-91ef-18d2ce743322",
   "metadata": {},
   "outputs": [
    {
     "name": "stdout",
     "output_type": "stream",
     "text": [
      "Monthly transaction Trend: Transaction Date\n",
      "2022-01    135\n",
      "2022-02    152\n",
      "2022-03    138\n",
      "2022-04    125\n",
      "2022-05    130\n",
      "2022-06    125\n",
      "2022-07    113\n",
      "2022-08    136\n",
      "2022-09    146\n",
      "2022-10    140\n",
      "2022-11    140\n",
      "2022-12    141\n",
      "2023-01    153\n",
      "2023-02    129\n",
      "2023-03    124\n",
      "2023-04    116\n",
      "2023-05    125\n",
      "2023-06    105\n",
      "2023-07    128\n",
      "2023-08    122\n",
      "2023-09    133\n",
      "2023-10    134\n",
      "2023-11    119\n",
      "2023-12    134\n",
      "2024-01    144\n",
      "2024-02    142\n",
      "2024-03    137\n",
      "2024-04    136\n",
      "2024-05    127\n",
      "2024-06    142\n",
      "2024-07    143\n",
      "2024-08    161\n",
      "2024-09    146\n",
      "2024-10    145\n",
      "2024-11    133\n",
      "2024-12    144\n",
      "2025-01     14\n",
      "2025-02     17\n",
      "2025-03     19\n",
      "2025-04     14\n",
      "2025-05      8\n",
      "2025-06     11\n",
      "2025-07      3\n",
      "2025-08     20\n",
      "2025-09     13\n",
      "2025-10      8\n",
      "2025-11     10\n",
      "2025-12     13\n",
      "Freq: M, dtype: int64\n",
      "Yearly transaction Trend: Transaction Date\n",
      "2022.0    1621\n",
      "2023.0    1522\n",
      "2024.0    1700\n",
      "2025.0     150\n",
      "dtype: int64\n"
     ]
    }
   ],
   "source": [
    "#\tHow do transactions trend over time (monthly / yearly)?\n",
    "monthly_trend = df.groupby(df['Transaction Date'].dt.to_period('M')).size()\n",
    "print(\"Monthly transaction Trend:\",monthly_trend)\n",
    "yearly_trend = df.groupby(df['Transaction Date'].dt.year).size()\n",
    "print(\"Yearly transaction Trend:\",yearly_trend)"
   ]
  },
  {
   "cell_type": "code",
   "execution_count": 36,
   "id": "6c0e5476-16f7-4f9a-9de0-9d6c32be375c",
   "metadata": {},
   "outputs": [
    {
     "name": "stdout",
     "output_type": "stream",
     "text": [
      "[1.0]\n"
     ]
    }
   ],
   "source": [
    "# In which month(s) did the most transactions occur?\n",
    "months_with_max = df.groupby(df['Transaction Date'].dt.month).size().loc[lambda x: x == x.max()].index.tolist()\n",
    "print(months_with_max)"
   ]
  },
  {
   "cell_type": "code",
   "execution_count": 37,
   "id": "70e4870b-3a85-491c-90b6-e0152a4c24a0",
   "metadata": {},
   "outputs": [
    {
     "data": {
      "text/plain": [
       "np.float64(2.0)"
      ]
     },
     "execution_count": 37,
     "metadata": {},
     "output_type": "execute_result"
    }
   ],
   "source": [
    "# Which month had the highest total revenue?\n",
    "df.groupby(df['Transaction Date'].dt.month)['Total Spent'].sum().idxmax()"
   ]
  },
  {
   "cell_type": "code",
   "execution_count": 38,
   "id": "1f3a2f52-b8a8-4884-be9c-48810d093d57",
   "metadata": {},
   "outputs": [
    {
     "name": "stdout",
     "output_type": "stream",
     "text": [
      "Transaction Date\n",
      "2022.0    128.960827\n",
      "2023.0    128.660972\n",
      "2024.0    128.520882\n",
      "2025.0    128.636667\n",
      "Name: Total Spent, dtype: float64\n"
     ]
    }
   ],
   "source": [
    "#\tIs there a difference in average transaction value between 2022, 2023, and 2024?\n",
    "avg_by_year = df.groupby(df['Transaction Date'].dt.year)['Total Spent'].mean()\n",
    "print(avg_by_year)"
   ]
  },
  {
   "cell_type": "code",
   "execution_count": 39,
   "id": "380662f1-bc7b-41ff-9da9-b2d3e73459df",
   "metadata": {},
   "outputs": [
    {
     "data": {
      "text/plain": [
       "Transaction Date\n",
       "1.0     0.686099\n",
       "2.0     0.718182\n",
       "3.0     0.650718\n",
       "4.0     0.631714\n",
       "5.0     0.646154\n",
       "6.0     0.621410\n",
       "7.0     0.723514\n",
       "8.0     0.658314\n",
       "9.0     0.643836\n",
       "10.0    0.674473\n",
       "11.0    0.669154\n",
       "12.0    0.652778\n",
       "Name: Discount Applied, dtype: float64"
      ]
     },
     "execution_count": 39,
     "metadata": {},
     "output_type": "execute_result"
    }
   ],
   "source": [
    "# Do discount transactions cluster in certain months/seasons?\n",
    "discount_freq_by_month = df.groupby(df['Transaction Date'].dt.month)['Discount Applied'].apply(lambda x: (x > 0).mean())\n",
    "discount_freq_by_month"
   ]
  },
  {
   "cell_type": "markdown",
   "id": "d2de178b-7dd7-498a-a1e9-71e25378578d",
   "metadata": {},
   "source": [
    "# Part 6: Payment & Discount Insights"
   ]
  },
  {
   "cell_type": "code",
   "execution_count": 40,
   "id": "5207b6a4-9092-47e8-a746-39adab176b30",
   "metadata": {},
   "outputs": [
    {
     "data": {
      "text/plain": [
       "0    cash\n",
       "Name: Payment Method, dtype: object"
      ]
     },
     "execution_count": 40,
     "metadata": {},
     "output_type": "execute_result"
    }
   ],
   "source": [
    "#\tWhich payment method is used most often?\n",
    "df['Payment Method'].mode()"
   ]
  },
  {
   "cell_type": "code",
   "execution_count": 41,
   "id": "ebbfb0e9-7650-4e29-904e-89fbea91c8e4",
   "metadata": {},
   "outputs": [
    {
     "data": {
      "text/plain": [
       "'cash'"
      ]
     },
     "execution_count": 41,
     "metadata": {},
     "output_type": "execute_result"
    }
   ],
   "source": [
    "# Which payment method generates the highest revenue?\n",
    "df.groupby('Payment Method')['Total Spent'].sum().idxmax()"
   ]
  },
  {
   "cell_type": "code",
   "execution_count": 42,
   "id": "81d129ea-b9e8-4338-9a85-fea5def87884",
   "metadata": {},
   "outputs": [
    {
     "data": {
      "text/plain": [
       "Series([], Name: Total Spent, dtype: float64)"
      ]
     },
     "execution_count": 42,
     "metadata": {},
     "output_type": "execute_result"
    }
   ],
   "source": [
    "# Does average Total Spent differ between Credit Card and Digital Wallet?\n",
    "df[df['Payment Method'].isin(['Credit Card', 'Digital Wallet'])].groupby('Payment Method')['Total Spent'].mean()"
   ]
  },
  {
   "cell_type": "code",
   "execution_count": 43,
   "id": "3b355bb4-cb1e-42c3-a4ea-ae7748e080ed",
   "metadata": {},
   "outputs": [
    {
     "data": {
      "text/plain": [
       "np.float64(66.94234592445328)"
      ]
     },
     "execution_count": 43,
     "metadata": {},
     "output_type": "execute_result"
    }
   ],
   "source": [
    "# What percentage of all transactions had discounts applied?\n",
    "(df['Discount Applied'] > 0).mean() * 100\n"
   ]
  },
  {
   "cell_type": "code",
   "execution_count": 44,
   "id": "691db6b2-c69d-4807-8f62-e3b9e7c0ddff",
   "metadata": {},
   "outputs": [
    {
     "data": {
      "text/plain": [
       "Discount Applied\n",
       "False    5.600433\n",
       "True     5.538014\n",
       "Name: Quantity, dtype: float64"
      ]
     },
     "execution_count": 44,
     "metadata": {},
     "output_type": "execute_result"
    }
   ],
   "source": [
    "# Do transactions with discounts have a higher average Quantity than those without?\n",
    "df.groupby(df['Discount Applied'] > 0)['Quantity'].mean()\n"
   ]
  },
  {
   "cell_type": "code",
   "execution_count": 45,
   "id": "282fa779-e00b-46c3-b31f-f7babbf1f24c",
   "metadata": {},
   "outputs": [
    {
     "name": "stdout",
     "output_type": "stream",
     "text": [
      "Discount Applied\n",
      "False    23.406663\n",
      "True     23.319316\n",
      "Name: Price Per Unit, dtype: float64\n"
     ]
    }
   ],
   "source": [
    "# Do discount transactions generate more total revenue compared to non-discount ones?\n",
    "avg_compare = df.groupby('Discount Applied')['Price Per Unit'].mean()\n",
    "print(avg_compare)\n"
   ]
  },
  {
   "cell_type": "code",
   "execution_count": null,
   "id": "97796374-10dd-43ea-a5f4-de28d2e7693a",
   "metadata": {},
   "outputs": [],
   "source": []
  }
 ],
 "metadata": {
  "kernelspec": {
   "display_name": "Python 3 (ipykernel)",
   "language": "python",
   "name": "python3"
  },
  "language_info": {
   "codemirror_mode": {
    "name": "ipython",
    "version": 3
   },
   "file_extension": ".py",
   "mimetype": "text/x-python",
   "name": "python",
   "nbconvert_exporter": "python",
   "pygments_lexer": "ipython3",
   "version": "3.13.5"
  }
 },
 "nbformat": 4,
 "nbformat_minor": 5
}
